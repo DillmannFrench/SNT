{
 "cells": [
  {
   "cell_type": "markdown",
   "metadata": {},
   "source": [
    "# Cours de programmation Python"
   ]
  },
  {
   "cell_type": "markdown",
   "metadata": {},
   "source": [
    "## 1) L'ordinateur est une machine logique\n",
    "Nous commençons ce cours en précisant qu'un ordinateur est une machine qui fonctionne grâce à des instructions et qui suit une logique binaire. \n",
    "Pour parler plus simplement, pour un ordinateur une réponse c'est ou tout noir ou tout blanc. La machine ignore ce que _\"peut-être bien que oui ou peut être bien que non\"_ veut dire (à moins que l'on lui donne des régles très claires pour qu'elle puisse se mettre dans cet état). \n",
    "Nous allons commencer par voire des instructions qui permettent de comprendre cette manière de penser."
   ]
  },
  {
   "cell_type": "markdown",
   "metadata": {},
   "source": [
    "Je commence par définir une variable logique prenant comme unique valeur True ou False (avec une majuscule en première lettre)."
   ]
  },
  {
   "cell_type": "code",
   "execution_count": 1,
   "metadata": {},
   "outputs": [],
   "source": [
    "Je_suis_content = True\n",
    "Je_suis_triste = False "
   ]
  },
  {
   "cell_type": "markdown",
   "metadata": {},
   "source": [
    "Voila pour la déclaration des variables, maintenant nous allons utiliser l'instruction 'et', en anglais 'and' qui est représentée par le symbole `&` pour étudier comment l'ordinateur s'y prend pour associer les variables"
   ]
  },
  {
   "cell_type": "code",
   "execution_count": 2,
   "metadata": {},
   "outputs": [
    {
     "data": {
      "text/plain": [
       "False"
      ]
     },
     "execution_count": 2,
     "metadata": {},
     "output_type": "execute_result"
    }
   ],
   "source": [
    "# Est ce que les deux peuvent être vrais à la fois ?\n",
    "Je_suis_content & Je_suis_triste"
   ]
  },
  {
   "cell_type": "code",
   "execution_count": 3,
   "metadata": {},
   "outputs": [
    {
     "data": {
      "text/plain": [
       "True"
      ]
     },
     "execution_count": 3,
     "metadata": {},
     "output_type": "execute_result"
    }
   ],
   "source": [
    "# Est ce que je peut être content et PAS triste\n",
    "Je_suis_content & (not Je_suis_triste)"
   ]
  },
  {
   "cell_type": "code",
   "execution_count": 4,
   "metadata": {},
   "outputs": [
    {
     "data": {
      "text/plain": [
       "False"
      ]
     },
     "execution_count": 4,
     "metadata": {},
     "output_type": "execute_result"
    }
   ],
   "source": [
    "# Est ce que je si je suis PAS content et PAS triste je suis dans la vérité ?\n",
    "(not Je_suis_content) & (not Je_suis_triste)"
   ]
  },
  {
   "cell_type": "markdown",
   "metadata": {},
   "source": [
    "Pour un ordinateur je ne suis pas content et je suis triste cela reste Faux "
   ]
  },
  {
   "cell_type": "code",
   "execution_count": 5,
   "metadata": {},
   "outputs": [
    {
     "data": {
      "text/plain": [
       "False"
      ]
     },
     "execution_count": 5,
     "metadata": {},
     "output_type": "execute_result"
    }
   ],
   "source": [
    "# Est ce que je si je suis PAS content et triste je suis dans la vérité ?\n",
    "(not Je_suis_content) & (Je_suis_triste)"
   ]
  },
  {
   "cell_type": "markdown",
   "metadata": {},
   "source": [
    "Tout ce que l'ordinateur sait faire est de me dire que je ne peut pas être triste et content en même temps.\n",
    "On constate que le degré de psychologie d'un ordinateur est plus proche de celui d'une roche de silicium que de celui de votre meilleur ami. \n",
    "On en déduit qu'il vaut mieux confier ses problèmes à un ami plutôt qu'à un ordinateur."
   ]
  },
  {
   "cell_type": "markdown",
   "metadata": {},
   "source": [
    "## 2) Une première approche de l'interactivité"
   ]
  },
  {
   "cell_type": "markdown",
   "metadata": {},
   "source": [
    "Nous vennons de voire dans la partie précédente que l'ordinateur jongle avec des rêgles de logique qui sont assez simplifiées. Elle constituent le gouvernail d'un navire qui peut naviquer en mer.\n",
    "\n",
    "Dans cette partie nous allons voire se qui se passe quand on appuie sur un bouton dans un formulaire. L'objectif est de constater que les actions que nous menons sur le _\"web\"_ ont toutes une influence sur la manière dont notre navigation va être menée.\n",
    "\n",
    "Pensez à un capitaine dans un bateau, si il prends le mauvais cap au début il peut emmener son embarcation à une destination tout à fait différente de celle qui était prévue à l'origine."
   ]
  },
  {
   "cell_type": "markdown",
   "metadata": {},
   "source": [
    "On va d'abord simuler un programme qui vous propose des solutions en fonction du type de matériel (en anglais _\"hardware\"_ dont vous disposez) "
   ]
  },
  {
   "cell_type": "markdown",
   "metadata": {},
   "source": [
    "Les lignes suivantes ont pour objectif de dire à l'interpréteur python qu'il doit se saisir d'un certain nombre d'outils. Parmi ces outils il y a les _widgets_ se qui veut dire _\"Window  gadgets\"_ se sont les fameux petits boutons qui donnent à notre site un premier parfum d'intéractivité."
   ]
  },
  {
   "cell_type": "code",
   "execution_count": 6,
   "metadata": {},
   "outputs": [],
   "source": [
    "#from __future__ import print_function\n",
    "from ipywidgets import interact, fixed, interact_manual\n",
    "import ipywidgets as widgets"
   ]
  },
  {
   "cell_type": "markdown",
   "metadata": {},
   "source": [
    "## Une première question :\n",
    "Quel type de _hardware_ utilisez-vous pour vous connecter au réseau ?"
   ]
  },
  {
   "cell_type": "code",
   "execution_count": 8,
   "metadata": {
    "scrolled": false
   },
   "outputs": [
    {
     "data": {
      "application/vnd.jupyter.widget-view+json": {
       "model_id": "a4235076ccb64d19a5897f3151dc5b88",
       "version_major": 2,
       "version_minor": 0
      },
      "text/plain": [
       "interactive(children=(Checkbox(value=False, description='ordinateur'), Checkbox(value=False, description='tabl…"
      ]
     },
     "metadata": {},
     "output_type": "display_data"
    }
   ],
   "source": [
    "@interact(ordinateur=False, tablette=False, smartphone=False, rien_du_tout=False)\n",
    "def g(ordinateur,tablette,smartphone,rien_du_tout):\n",
    "    \"\"\" Cette fonction sert d'exemple d'utilisation des boutons \"\"\"\n",
    "    if rien_du_tout :\n",
    "        f = print('Il faut donc aller chez des amis pour vos recherches sur internet ?')\n",
    "    else :\n",
    "        if (ordinateur==1) & (tablette==1) & (smartphone==1) :\n",
    "            f = print(\"Vous êtes très bien équipé !\")\n",
    "        if (ordinateur==0) & (tablette==0) & (smartphone==0) :\n",
    "            f = print(\"Pouvez vous en emprunter au moins un ?\")\n",
    "        if (ordinateur==1) & (tablette==0) & (smartphone==0) :\n",
    "            f = print(\"C'est bien mais... l'ordinateur doit servir en classe\")\n",
    "        else :\n",
    "            f = print('ordinateur est {0}, tablette est {1}, smartphone est {2}'.format(ordinateur,tablette,smartphone))           \n",
    "    return f"
   ]
  },
  {
   "cell_type": "markdown",
   "metadata": {},
   "source": [
    "<html><head>\n",
    "\n",
    "\n",
    "<!-- Load require.js. Delete this if your page already loads require.js -->\n",
    "<script src=\"https://cdnjs.cloudflare.com/ajax/libs/require.js/2.3.4/require.min.js\" integrity=\"sha256-Ae2Vz/4ePdIu6ZyI/5ZGsYnb+m0JlOmKPjt6XZ9JJkA=\" crossorigin=\"anonymous\"></script>\n",
    "<script src=\"https://unpkg.com/@jupyter-widgets/html-manager@*/dist/embed-amd.js\" crossorigin=\"anonymous\"></script>\n",
    "<script type=\"application/vnd.jupyter.widget-state+json\">\n",
    "{\n",
    "    \"version_major\": 2,\n",
    "    \"version_minor\": 0,\n",
    "    \"state\": {\n",
    "        \"1cd39021de1e49b8a83e3aaa421e14e6\": {\n",
    "            \"model_name\": \"LayoutModel\",\n",
    "            \"model_module\": \"@jupyter-widgets/base\",\n",
    "            \"model_module_version\": \"1.1.0\",\n",
    "            \"state\": {}\n",
    "        },\n",
    "        \"3ecf54366e674c43bdc40fd31b8c5e04\": {\n",
    "            \"model_name\": \"VBoxModel\",\n",
    "            \"model_module\": \"@jupyter-widgets/controls\",\n",
    "            \"model_module_version\": \"1.4.0\",\n",
    "            \"state\": {\n",
    "                \"_dom_classes\": [\n",
    "                    \"widget-interact\"\n",
    "                ],\n",
    "                \"children\": [\n",
    "                    \"IPY_MODEL_4ba02d0cdb304bbe90e15bdbb3d11d4c\",\n",
    "                    \"IPY_MODEL_96b30a9276b4434c8354b0981ef885fd\",\n",
    "                    \"IPY_MODEL_047316345aa54c5cb24cc6f45aa7770f\",\n",
    "                    \"IPY_MODEL_eb861f87132c4d56814e8294d3c35616\",\n",
    "                    \"IPY_MODEL_1c1999de6ff84c0d8acd5c3e63b71696\"\n",
    "                ],\n",
    "                \"layout\": \"IPY_MODEL_1cd39021de1e49b8a83e3aaa421e14e6\"\n",
    "            }\n",
    "        },\n",
    "        \"33366007451643d2a5de23ca05fad5b3\": {\n",
    "            \"model_name\": \"LayoutModel\",\n",
    "            \"model_module\": \"@jupyter-widgets/base\",\n",
    "            \"model_module_version\": \"1.1.0\",\n",
    "            \"state\": {}\n",
    "        },\n",
    "        \"0032991d2dcf4e90b692a46924a1faf4\": {\n",
    "            \"model_name\": \"DescriptionStyleModel\",\n",
    "            \"model_module\": \"@jupyter-widgets/controls\",\n",
    "            \"model_module_version\": \"1.4.0\",\n",
    "            \"state\": {\n",
    "                \"description_width\": \"\"\n",
    "            }\n",
    "        },\n",
    "        \"4ba02d0cdb304bbe90e15bdbb3d11d4c\": {\n",
    "            \"model_name\": \"CheckboxModel\",\n",
    "            \"model_module\": \"@jupyter-widgets/controls\",\n",
    "            \"model_module_version\": \"1.4.0\",\n",
    "            \"state\": {\n",
    "                \"description\": \"ordinateur\",\n",
    "                \"disabled\": false,\n",
    "                \"layout\": \"IPY_MODEL_33366007451643d2a5de23ca05fad5b3\",\n",
    "                \"style\": \"IPY_MODEL_0032991d2dcf4e90b692a46924a1faf4\",\n",
    "                \"value\": false\n",
    "            }\n",
    "        },\n",
    "        \"86a3aa4099a04355a8b7311ff0bcd3c1\": {\n",
    "            \"model_name\": \"LayoutModel\",\n",
    "            \"model_module\": \"@jupyter-widgets/base\",\n",
    "            \"model_module_version\": \"1.1.0\",\n",
    "            \"state\": {}\n",
    "        },\n",
    "        \"fe36cee1ece14b909dccf4b0af6b69b7\": {\n",
    "            \"model_name\": \"DescriptionStyleModel\",\n",
    "            \"model_module\": \"@jupyter-widgets/controls\",\n",
    "            \"model_module_version\": \"1.4.0\",\n",
    "            \"state\": {\n",
    "                \"description_width\": \"\"\n",
    "            }\n",
    "        },\n",
    "        \"96b30a9276b4434c8354b0981ef885fd\": {\n",
    "            \"model_name\": \"CheckboxModel\",\n",
    "            \"model_module\": \"@jupyter-widgets/controls\",\n",
    "            \"model_module_version\": \"1.4.0\",\n",
    "            \"state\": {\n",
    "                \"description\": \"tablette\",\n",
    "                \"disabled\": false,\n",
    "                \"layout\": \"IPY_MODEL_86a3aa4099a04355a8b7311ff0bcd3c1\",\n",
    "                \"style\": \"IPY_MODEL_fe36cee1ece14b909dccf4b0af6b69b7\",\n",
    "                \"value\": false\n",
    "            }\n",
    "        },\n",
    "        \"2d1ec4a3fc854e0199a9e889d9573aa6\": {\n",
    "            \"model_name\": \"LayoutModel\",\n",
    "            \"model_module\": \"@jupyter-widgets/base\",\n",
    "            \"model_module_version\": \"1.1.0\",\n",
    "            \"state\": {}\n",
    "        },\n",
    "        \"79047971f5514997a2f876f0146d5cac\": {\n",
    "            \"model_name\": \"DescriptionStyleModel\",\n",
    "            \"model_module\": \"@jupyter-widgets/controls\",\n",
    "            \"model_module_version\": \"1.4.0\",\n",
    "            \"state\": {\n",
    "                \"description_width\": \"\"\n",
    "            }\n",
    "        },\n",
    "        \"047316345aa54c5cb24cc6f45aa7770f\": {\n",
    "            \"model_name\": \"CheckboxModel\",\n",
    "            \"model_module\": \"@jupyter-widgets/controls\",\n",
    "            \"model_module_version\": \"1.4.0\",\n",
    "            \"state\": {\n",
    "                \"description\": \"smartphone\",\n",
    "                \"disabled\": false,\n",
    "                \"layout\": \"IPY_MODEL_2d1ec4a3fc854e0199a9e889d9573aa6\",\n",
    "                \"style\": \"IPY_MODEL_79047971f5514997a2f876f0146d5cac\",\n",
    "                \"value\": false\n",
    "            }\n",
    "        },\n",
    "        \"613d291cf28545e895d7c0db4d895ac6\": {\n",
    "            \"model_name\": \"LayoutModel\",\n",
    "            \"model_module\": \"@jupyter-widgets/base\",\n",
    "            \"model_module_version\": \"1.1.0\",\n",
    "            \"state\": {}\n",
    "        },\n",
    "        \"83cb08c04b2a4927a1284f24c3518f3b\": {\n",
    "            \"model_name\": \"DescriptionStyleModel\",\n",
    "            \"model_module\": \"@jupyter-widgets/controls\",\n",
    "            \"model_module_version\": \"1.4.0\",\n",
    "            \"state\": {\n",
    "                \"description_width\": \"\"\n",
    "            }\n",
    "        },\n",
    "        \"eb861f87132c4d56814e8294d3c35616\": {\n",
    "            \"model_name\": \"CheckboxModel\",\n",
    "            \"model_module\": \"@jupyter-widgets/controls\",\n",
    "            \"model_module_version\": \"1.4.0\",\n",
    "            \"state\": {\n",
    "                \"description\": \"rien_du_tout\",\n",
    "                \"disabled\": false,\n",
    "                \"layout\": \"IPY_MODEL_613d291cf28545e895d7c0db4d895ac6\",\n",
    "                \"style\": \"IPY_MODEL_83cb08c04b2a4927a1284f24c3518f3b\",\n",
    "                \"value\": true\n",
    "            }\n",
    "        },\n",
    "        \"f94a66029d36403f9683369fef3ae082\": {\n",
    "            \"model_name\": \"LayoutModel\",\n",
    "            \"model_module\": \"@jupyter-widgets/base\",\n",
    "            \"model_module_version\": \"1.1.0\",\n",
    "            \"state\": {}\n",
    "        },\n",
    "        \"1c1999de6ff84c0d8acd5c3e63b71696\": {\n",
    "            \"model_name\": \"OutputModel\",\n",
    "            \"model_module\": \"@jupyter-widgets/output\",\n",
    "            \"model_module_version\": \"1.0.0\",\n",
    "            \"state\": {\n",
    "                \"layout\": \"IPY_MODEL_f94a66029d36403f9683369fef3ae082\",\n",
    "                \"outputs\": [\n",
    "                    {\n",
    "                        \"output_type\": \"stream\",\n",
    "                        \"text\": \"Il faut donc aller chez des amis pour vos recherches sur internet ?\\n\",\n",
    "                        \"name\": \"stdout\"\n",
    "                    }\n",
    "                ]\n",
    "            }\n",
    "        }\n",
    "    }\n",
    "}\n",
    "</script>\n",
    "</head>\n",
    "<body>\n",
    "\n",
    "<script type=\"application/vnd.jupyter.widget-view+json\">\n",
    "{\n",
    "    \"version_major\": 2,\n",
    "    \"version_minor\": 0,\n",
    "    \"model_id\": \"3ecf54366e674c43bdc40fd31b8c5e04\"\n",
    "}\n",
    "</script>\n",
    "\n",
    "</body>\n",
    "</html>\n"
   ]
  },
  {
   "cell_type": "markdown",
   "metadata": {},
   "source": [
    "<html><head>\n",
    "\n",
    "<!-- Load require.js. Delete this if your page already loads require.js -->\n",
    "<script src=\"https://cdnjs.cloudflare.com/ajax/libs/require.js/2.3.4/require.min.js\" integrity=\"sha256-Ae2Vz/4ePdIu6ZyI/5ZGsYnb+m0JlOmKPjt6XZ9JJkA=\" crossorigin=\"anonymous\"></script>\n",
    "<script src=\"https://unpkg.com/@jupyter-widgets/html-manager@*/dist/embed-amd.js\" crossorigin=\"anonymous\"></script>\n",
    "<script type=\"application/vnd.jupyter.widget-state+json\">\n",
    "{\n",
    "    \"version_major\": 2,\n",
    "    \"version_minor\": 0,\n",
    "    \"state\": {\n",
    "        \"1cd39021de1e49b8a83e3aaa421e14e6\": {\n",
    "            \"model_name\": \"LayoutModel\",\n",
    "            \"model_module\": \"@jupyter-widgets/base\",\n",
    "            \"model_module_version\": \"1.1.0\",\n",
    "            \"state\": {}\n",
    "        },\n",
    "        \"3ecf54366e674c43bdc40fd31b8c5e04\": {\n",
    "            \"model_name\": \"VBoxModel\",\n",
    "            \"model_module\": \"@jupyter-widgets/controls\",\n",
    "            \"model_module_version\": \"1.4.0\",\n",
    "            \"state\": {\n",
    "                \"_dom_classes\": [\n",
    "                    \"widget-interact\"\n",
    "                ],\n",
    "                \"children\": [\n",
    "                    \"IPY_MODEL_4ba02d0cdb304bbe90e15bdbb3d11d4c\",\n",
    "                    \"IPY_MODEL_96b30a9276b4434c8354b0981ef885fd\",\n",
    "                    \"IPY_MODEL_047316345aa54c5cb24cc6f45aa7770f\",\n",
    "                    \"IPY_MODEL_eb861f87132c4d56814e8294d3c35616\",\n",
    "                    \"IPY_MODEL_1c1999de6ff84c0d8acd5c3e63b71696\"\n",
    "                ],\n",
    "                \"layout\": \"IPY_MODEL_1cd39021de1e49b8a83e3aaa421e14e6\"\n",
    "            }\n",
    "        },\n",
    "        \"33366007451643d2a5de23ca05fad5b3\": {\n",
    "            \"model_name\": \"LayoutModel\",\n",
    "            \"model_module\": \"@jupyter-widgets/base\",\n",
    "            \"model_module_version\": \"1.1.0\",\n",
    "            \"state\": {}\n",
    "        },\n",
    "        \"0032991d2dcf4e90b692a46924a1faf4\": {\n",
    "            \"model_name\": \"DescriptionStyleModel\",\n",
    "            \"model_module\": \"@jupyter-widgets/controls\",\n",
    "            \"model_module_version\": \"1.4.0\",\n",
    "            \"state\": {\n",
    "                \"description_width\": \"\"\n",
    "            }\n",
    "        },\n",
    "        \"4ba02d0cdb304bbe90e15bdbb3d11d4c\": {\n",
    "            \"model_name\": \"CheckboxModel\",\n",
    "            \"model_module\": \"@jupyter-widgets/controls\",\n",
    "            \"model_module_version\": \"1.4.0\",\n",
    "            \"state\": {\n",
    "                \"description\": \"ordinateur\",\n",
    "                \"disabled\": false,\n",
    "                \"layout\": \"IPY_MODEL_33366007451643d2a5de23ca05fad5b3\",\n",
    "                \"style\": \"IPY_MODEL_0032991d2dcf4e90b692a46924a1faf4\",\n",
    "                \"value\": false\n",
    "            }\n",
    "        },\n",
    "        \"86a3aa4099a04355a8b7311ff0bcd3c1\": {\n",
    "            \"model_name\": \"LayoutModel\",\n",
    "            \"model_module\": \"@jupyter-widgets/base\",\n",
    "            \"model_module_version\": \"1.1.0\",\n",
    "            \"state\": {}\n",
    "        },\n",
    "        \"fe36cee1ece14b909dccf4b0af6b69b7\": {\n",
    "            \"model_name\": \"DescriptionStyleModel\",\n",
    "            \"model_module\": \"@jupyter-widgets/controls\",\n",
    "            \"model_module_version\": \"1.4.0\",\n",
    "            \"state\": {\n",
    "                \"description_width\": \"\"\n",
    "            }\n",
    "        },\n",
    "        \"96b30a9276b4434c8354b0981ef885fd\": {\n",
    "            \"model_name\": \"CheckboxModel\",\n",
    "            \"model_module\": \"@jupyter-widgets/controls\",\n",
    "            \"model_module_version\": \"1.4.0\",\n",
    "            \"state\": {\n",
    "                \"description\": \"tablette\",\n",
    "                \"disabled\": false,\n",
    "                \"layout\": \"IPY_MODEL_86a3aa4099a04355a8b7311ff0bcd3c1\",\n",
    "                \"style\": \"IPY_MODEL_fe36cee1ece14b909dccf4b0af6b69b7\",\n",
    "                \"value\": false\n",
    "            }\n",
    "        },\n",
    "        \"2d1ec4a3fc854e0199a9e889d9573aa6\": {\n",
    "            \"model_name\": \"LayoutModel\",\n",
    "            \"model_module\": \"@jupyter-widgets/base\",\n",
    "            \"model_module_version\": \"1.1.0\",\n",
    "            \"state\": {}\n",
    "        },\n",
    "        \"79047971f5514997a2f876f0146d5cac\": {\n",
    "            \"model_name\": \"DescriptionStyleModel\",\n",
    "            \"model_module\": \"@jupyter-widgets/controls\",\n",
    "            \"model_module_version\": \"1.4.0\",\n",
    "            \"state\": {\n",
    "                \"description_width\": \"\"\n",
    "            }\n",
    "        },\n",
    "        \"047316345aa54c5cb24cc6f45aa7770f\": {\n",
    "            \"model_name\": \"CheckboxModel\",\n",
    "            \"model_module\": \"@jupyter-widgets/controls\",\n",
    "            \"model_module_version\": \"1.4.0\",\n",
    "            \"state\": {\n",
    "                \"description\": \"smartphone\",\n",
    "                \"disabled\": false,\n",
    "                \"layout\": \"IPY_MODEL_2d1ec4a3fc854e0199a9e889d9573aa6\",\n",
    "                \"style\": \"IPY_MODEL_79047971f5514997a2f876f0146d5cac\",\n",
    "                \"value\": false\n",
    "            }\n",
    "        },\n",
    "        \"613d291cf28545e895d7c0db4d895ac6\": {\n",
    "            \"model_name\": \"LayoutModel\",\n",
    "            \"model_module\": \"@jupyter-widgets/base\",\n",
    "            \"model_module_version\": \"1.1.0\",\n",
    "            \"state\": {}\n",
    "        },\n",
    "        \"83cb08c04b2a4927a1284f24c3518f3b\": {\n",
    "            \"model_name\": \"DescriptionStyleModel\",\n",
    "            \"model_module\": \"@jupyter-widgets/controls\",\n",
    "            \"model_module_version\": \"1.4.0\",\n",
    "            \"state\": {\n",
    "                \"description_width\": \"\"\n",
    "            }\n",
    "        },\n",
    "        \"eb861f87132c4d56814e8294d3c35616\": {\n",
    "            \"model_name\": \"CheckboxModel\",\n",
    "            \"model_module\": \"@jupyter-widgets/controls\",\n",
    "            \"model_module_version\": \"1.4.0\",\n",
    "            \"state\": {\n",
    "                \"description\": \"rien_du_tout\",\n",
    "                \"disabled\": false,\n",
    "                \"layout\": \"IPY_MODEL_613d291cf28545e895d7c0db4d895ac6\",\n",
    "                \"style\": \"IPY_MODEL_83cb08c04b2a4927a1284f24c3518f3b\",\n",
    "                \"value\": true\n",
    "            }\n",
    "        },\n",
    "        \"f94a66029d36403f9683369fef3ae082\": {\n",
    "            \"model_name\": \"LayoutModel\",\n",
    "            \"model_module\": \"@jupyter-widgets/base\",\n",
    "            \"model_module_version\": \"1.1.0\",\n",
    "            \"state\": {}\n",
    "        },\n",
    "        \"1c1999de6ff84c0d8acd5c3e63b71696\": {\n",
    "            \"model_name\": \"OutputModel\",\n",
    "            \"model_module\": \"@jupyter-widgets/output\",\n",
    "            \"model_module_version\": \"1.0.0\",\n",
    "            \"state\": {\n",
    "                \"layout\": \"IPY_MODEL_f94a66029d36403f9683369fef3ae082\",\n",
    "                \"outputs\": [\n",
    "                    {\n",
    "                        \"output_type\": \"stream\",\n",
    "                        \"text\": \"Il faut donc aller chez des amis pour vos recherches sur internet ?\\n\",\n",
    "                        \"name\": \"stdout\"\n",
    "                    }\n",
    "                ]\n",
    "            }\n",
    "        }\n",
    "    }\n",
    "}\n",
    "</script>\n",
    "</head>\n",
    "<body>\n",
    "\n",
    "<script type=\"application/vnd.jupyter.widget-view+json\">\n",
    "{\n",
    "    \"version_major\": 2,\n",
    "    \"version_minor\": 0,\n",
    "    \"model_id\": \"3ecf54366e674c43bdc40fd31b8c5e04\"\n",
    "}\n",
    "</script>\n",
    "\n",
    "</body>\n",
    "</html>"
   ]
  },
  {
   "cell_type": "markdown",
   "metadata": {},
   "source": [
    "Comme vous voyez le code qui ce trouve dans la cellule précédente est programmé pour donner une réponse au différents cas que vous choisissez.\n",
    "\n",
    "On ne vous demande pas de comprendre la structure de ce type de code, juste de remarquer quelques points :\n",
    "> - Le texte en rouge est imprimé et il peut apparaître à l'écran\n",
    "> - Des mots clefs en vert sont systématiquement en anglais\n",
    "> - les mots clefs _\"if\"_ et _\"else\"_ sont mis les uns en dessous des autres\n",
    "> - les différents choix (ordinateur, tablette,...) correspondent à des variables qui peuvent être égales à \"0\" (False) ou à \"1\" (True), on dit que ce type de logique est **bouléenne**"
   ]
  },
  {
   "cell_type": "markdown",
   "metadata": {},
   "source": [
    "Si vous souhaitez que vos réponses soient enregistrées au niveau d'un questionnaire il faut aller dans le menu `Widget` puis sélectionner l'option _\"Save Notebook Widget State\"_ "
   ]
  },
  {
   "cell_type": "markdown",
   "metadata": {},
   "source": [
    "**Exercice** : Dans le cas ou vous avez un ordinateur et une tablette mais pas de smartphone, affichez la réponse \"Pouvez vous apporter la tablette en cours de SNT ?\" \n"
   ]
  },
  {
   "cell_type": "code",
   "execution_count": null,
   "metadata": {},
   "outputs": [],
   "source": []
  }
 ],
 "metadata": {
  "kernelspec": {
   "display_name": "Python 3",
   "language": "python",
   "name": "python3"
  },
  "language_info": {
   "codemirror_mode": {
    "name": "ipython",
    "version": 3
   },
   "file_extension": ".py",
   "mimetype": "text/x-python",
   "name": "python",
   "nbconvert_exporter": "python",
   "pygments_lexer": "ipython3",
   "version": "3.7.1"
  }
 },
 "nbformat": 4,
 "nbformat_minor": 2
}

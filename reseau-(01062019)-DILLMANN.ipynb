{
 "cells": [
  {
   "cell_type": "markdown",
   "metadata": {},
   "source": [
    "# LE RÉSEAU"
   ]
  },
  {
   "cell_type": "markdown",
   "metadata": {},
   "source": [
    "# Manipulation des paquets réseau\n",
    "\n",
    "Le but de cet exercice est de voire quelques notions sur le réseau et d'apprendre à envoyer une requette \"ping\" sur un ordinateur, grâce à son adresse IP et son adresse MAC.\n",
    "Il y a une grande différence entre ces deux adresses, disons que l'adresse **IP** est le nom d'une machine sur le web, et que l'adresse **MAC** est l'acronyme pour \"media access control address\", c'est une adresse électronique qui est propre au dispositif physique de transmission des données."
   ]
  },
  {
   "cell_type": "markdown",
   "metadata": {},
   "source": [
    "On va d'abord commencer par importer la librairie *scapy* qui contient un grand nombre d'outils pour étudier le réseau **TCP-IP**\n",
    "\n",
    "- L'acronyme **TCP** vient de l'anglais \"Transmission Control Protocol\"\n",
    "- L'acronyme **IP** vient de l'anglais \"Internet Protocol\""
   ]
  },
  {
   "cell_type": "code",
   "execution_count": 2,
   "metadata": {},
   "outputs": [],
   "source": [
    "from scapy.all import *"
   ]
  },
  {
   "cell_type": "markdown",
   "metadata": {},
   "source": [
    "L'échange de paquets avec un serveur web est loin d'être simple, elle fait intervenir le **protocole** HTTP, le **handshake** TCP, l'**entête** IP, bref, nous allons au rester plus basique pour voire comment l'on envoie une requette à un appareil et comment on peut détecter des requettes venant qui sont faites à travers un reseau.\n",
    "\n",
    "- Une **requette** est une demande polie, formulée dans les règles de l'art de s'entendre entre ordinateurs. N'imaginez pas comprendre le contenu d'une requette pour le moment, ce sont des formules qui utilisent un langage codé\n",
    "- Un **protocole** est un ensemble de règles de communication\n",
    "- Un **handshake** est une poignée de main, c'est la mise en relation de l'émeteur avec son récepteur on dit aussi entre le host et le client\n",
    "- Une **entête** est l'information qui introduit le début d'un message IP\n",
    "\n",
    "Commençons donc par créer et afficher une trame Éthernet dans l'interpréteur Scapy :\n",
    "\n"
   ]
  },
  {
   "cell_type": "code",
   "execution_count": 3,
   "metadata": {},
   "outputs": [
    {
     "name": "stdout",
     "output_type": "stream",
     "text": [
      "###[ Ethernet ]### \n",
      "  dst       = ff:ff:ff:ff:ff:ff\n",
      "  src       = b8:e8:56:34:af:08\n",
      "  type      = 0x9000\n",
      "\n"
     ]
    }
   ],
   "source": [
    "ma_trame = Ether()\n",
    "ma_trame.show()"
   ]
  },
  {
   "cell_type": "markdown",
   "metadata": {},
   "source": [
    "Ici on peut décortiquer un message de la façon suivante : \n",
    "- `dst` est l'adresse MAC du destinataire\n",
    "\n",
    "- `src` est l'adresse MAC de l'expéditeur\n",
    "\n",
    "- `type` est la taille du paquet à envoyer "
   ]
  },
  {
   "cell_type": "markdown",
   "metadata": {},
   "source": [
    "La commande ping permet de savoir si un hôte, désigné par son adresse IP, existe. En version simplifiée, la commande *ping* consiste à envoyer un paquet \"echo-request\" à l'hôte et à dire si un paquet \"echo-reply\" a été renvoyé.\n",
    "\n",
    "Forgeons (oui : \"*forger*\" est le terme consacré par les ingénieurs réseau) donc un paquet echo-request pour envoyer un ping à la machine dont d'adresse est donnée par la variable `dst`"
   ]
  },
  {
   "cell_type": "code",
   "execution_count": 4,
   "metadata": {},
   "outputs": [
    {
     "name": "stdout",
     "output_type": "stream",
     "text": [
      "###[ Ethernet ]### \n",
      "  dst       = ff:ff:ff:ff:ff:ff\n",
      "  src       = b8:e8:56:34:af:08\n",
      "  type      = 0x800\n",
      "###[ IP ]### \n",
      "     version   = 4\n",
      "     ihl       = None\n",
      "     tos       = 0x0\n",
      "     len       = None\n",
      "     id        = 1\n",
      "     flags     = \n",
      "     frag      = 0\n",
      "     ttl       = 64\n",
      "     proto     = icmp\n",
      "     chksum    = None\n",
      "     src       = 192.168.0.28\n",
      "     dst       = 192.168.0.1\n",
      "     \\options   \\\n",
      "###[ ICMP ]### \n",
      "        type      = echo-request\n",
      "        code      = 0\n",
      "        chksum    = None\n",
      "        id        = 0x0\n",
      "        seq       = 0x0\n",
      "\n"
     ]
    }
   ],
   "source": [
    "mon_ping = mon_ping = Ether() / IP(dst='192.168.0.1') / ICMP()\n",
    "mon_ping.show()"
   ]
  },
  {
   "cell_type": "markdown",
   "metadata": {},
   "source": [
    "Voyons maintenant si notre routeur va répondre à cela par un paquet echo-reply."
   ]
  },
  {
   "cell_type": "code",
   "execution_count": 5,
   "metadata": {},
   "outputs": [
    {
     "name": "stdout",
     "output_type": "stream",
     "text": [
      "\n",
      "Sent 1 packets.\n"
     ]
    }
   ],
   "source": [
    "sendp(mon_ping)"
   ]
  },
  {
   "cell_type": "markdown",
   "metadata": {},
   "source": [
    "Si le message \"Sent 1 packets\" apparait c'est qu'assurément l'envoi a pu se faire correctement, mais cela ne nous informe pas sur la réception. Pour envoyer et recevoir, il faut utiliser les fonctions `srp()`. Celui-ci renvoie deux objets : le premier contient les paquets émis et leurs réponses associées, l'autre contient les paquets sans réponse."
   ]
  },
  {
   "cell_type": "code",
   "execution_count": 6,
   "metadata": {},
   "outputs": [
    {
     "name": "stdout",
     "output_type": "stream",
     "text": [
      "Begin emission:\n",
      "Finished sending 1 packets.\n",
      "\n",
      "Received 466 packets, got 1 answers, remaining 0 packets\n"
     ]
    }
   ],
   "source": [
    "rep,non_rep = srp(mon_ping)"
   ]
  },
  {
   "cell_type": "markdown",
   "metadata": {},
   "source": [
    "On voit qu'on a eu une réponse, zéro échecs, et que notre réponse est un paquet ! Examinons-le "
   ]
  },
  {
   "cell_type": "code",
   "execution_count": 7,
   "metadata": {},
   "outputs": [
    {
     "name": "stdout",
     "output_type": "stream",
     "text": [
      "0000 Ether / IP / ICMP 192.168.0.28 > 192.168.0.1 echo-request 0 ==> Ether / IP / ICMP 192.168.0.1 > 192.168.0.28 echo-reply 0 / Padding\n"
     ]
    }
   ],
   "source": [
    "rep.show()"
   ]
  },
  {
   "cell_type": "markdown",
   "metadata": {},
   "source": [
    "Le résultat est un couple (tuple à deux valeurs). Pour afficher le paquet émis (notre ICMP echo-request), on fera donc `rep[0][0].show()`, et pour le paquet reçu en réponse : `rep[0][1].show()`"
   ]
  },
  {
   "cell_type": "code",
   "execution_count": 8,
   "metadata": {
    "scrolled": false
   },
   "outputs": [
    {
     "name": "stdout",
     "output_type": "stream",
     "text": [
      "###[ Ethernet ]### \n",
      "  dst       = ac:84:c9:1f:ee:72\n",
      "  src       = b8:e8:56:34:af:08\n",
      "  type      = 0x800\n",
      "###[ IP ]### \n",
      "     version   = 4\n",
      "     ihl       = None\n",
      "     tos       = 0x0\n",
      "     len       = None\n",
      "     id        = 1\n",
      "     flags     = \n",
      "     frag      = 0\n",
      "     ttl       = 64\n",
      "     proto     = icmp\n",
      "     chksum    = None\n",
      "     src       = 192.168.0.28\n",
      "     dst       = 192.168.0.1\n",
      "     \\options   \\\n",
      "###[ ICMP ]### \n",
      "        type      = echo-request\n",
      "        code      = 0\n",
      "        chksum    = None\n",
      "        id        = 0x0\n",
      "        seq       = 0x0\n",
      "\n"
     ]
    }
   ],
   "source": [
    "rep[0][0].show()"
   ]
  },
  {
   "cell_type": "code",
   "execution_count": 9,
   "metadata": {
    "scrolled": false
   },
   "outputs": [
    {
     "name": "stdout",
     "output_type": "stream",
     "text": [
      "###[ Ethernet ]### \n",
      "  dst       = b8:e8:56:34:af:08\n",
      "  src       = ac:84:c9:1f:ee:72\n",
      "  type      = 0x800\n",
      "###[ IP ]### \n",
      "     version   = 4\n",
      "     ihl       = 5\n",
      "     tos       = 0x0\n",
      "     len       = 28\n",
      "     id        = 10411\n",
      "     flags     = \n",
      "     frag      = 0\n",
      "     ttl       = 64\n",
      "     proto     = icmp\n",
      "     chksum    = 0xd0c8\n",
      "     src       = 192.168.0.1\n",
      "     dst       = 192.168.0.28\n",
      "     \\options   \\\n",
      "###[ ICMP ]### \n",
      "        type      = echo-reply\n",
      "        code      = 0\n",
      "        chksum    = 0xffff\n",
      "        id        = 0x0\n",
      "        seq       = 0x0\n",
      "###[ Padding ]### \n",
      "           load      = '\\x00\\x00\\x00\\x00\\x00\\x00\\x00\\x00\\x00\\x00\\x00\\x00\\x00\\x00\\x00\\x00\\x00\\x00'\n",
      "\n"
     ]
    }
   ],
   "source": [
    "rep[0][1].show()"
   ]
  },
  {
   "cell_type": "markdown",
   "metadata": {},
   "source": [
    "Essayons maintenant d'envoyer un ping à un destinataire inconnu à l'adresse IP 10.1.0.201, normallement on ne devrait pas recevoir de réponse."
   ]
  },
  {
   "cell_type": "code",
   "execution_count": 10,
   "metadata": {},
   "outputs": [
    {
     "name": "stdout",
     "output_type": "stream",
     "text": [
      "Begin emission:\n",
      "Finished sending 1 packets.\n",
      "\n",
      "Received 193 packets, got 0 answers, remaining 1 packets\n"
     ]
    }
   ],
   "source": [
    "rep = sr1(IP(dst='10.1.0.201') / ICMP(), timeout=0.5)"
   ]
  },
  {
   "cell_type": "markdown",
   "metadata": {},
   "source": [
    "## Scan d'une plage d'adresse\n",
    "\n",
    "L'avantage de python est de pouvoir automatiser une commande comme ping sur une plage d'adresses IP. On va prendre les 25 premières machines du réseau, on va attendre une seconde à chaque fois pour s'assurer que la communication passe bien. On notera que le dernier chiffre de l'adresse IP permet d'arroser une plage d'une centaine de machines avec des requettes."
   ]
  },
  {
   "cell_type": "code",
   "execution_count": 16,
   "metadata": {},
   "outputs": [
    {
     "name": "stdout",
     "output_type": "stream",
     "text": [
      "Begin emission:\n",
      "Finished sending 100 packets.\n",
      "\n",
      "Received 1274 packets, got 5 answers, remaining 95 packets\n",
      "192.168.0.1 a renvoyé un echo-reply \n",
      "192.168.0.10 a renvoyé un echo-reply \n",
      "192.168.0.11 a renvoyé un echo-reply \n",
      "192.168.0.25 a renvoyé un echo-reply \n",
      "192.168.0.38 a renvoyé un echo-reply \n"
     ]
    }
   ],
   "source": [
    "adresses_machines = '192.168.0.1-100'\n",
    "rep,non_rep = sr( IP(dst=adresses_machines) / ICMP() , timeout=2)\n",
    "for elem in rep : # elem représente un couple (paquet émis, paquet reçu)\n",
    "\tif elem[1].type == 0 : # 0 <=> echo-reply\n",
    "\t\tprint('{} a renvoyé un echo-reply '.format(elem[1].src))\n"
   ]
  },
  {
   "cell_type": "markdown",
   "metadata": {},
   "source": [
    "## Utilisation d'un \"mouchard\" sur le réseau\n",
    "\n",
    "On peut également utiliser `sniff` pour scanner l'activité du réseau, c'est ce que l'on appelle un 'mouchard' car cette fonction va nous informer sur toutes les sites consultés et il peut être très utile pour savoir qui est ce qui vous envoie des requettes indésirables. En effet le harcélement sur internet et plus répandu que l'on ne le pense, surtout quand il est invisible.\n",
    "\n",
    "Notez bien qu'à chaque raffraichissement l'activité devrait changer, car le réseau est comme une mer en mouvement, transportant ça et là des requetes et des réponses..."
   ]
  },
  {
   "cell_type": "code",
   "execution_count": 17,
   "metadata": {},
   "outputs": [
    {
     "name": "stdout",
     "output_type": "stream",
     "text": [
      "Ether / IP / TCP 192.168.0.28:58770 > 13.32.215.252:https PA / Raw\n",
      "Ether / IP / TCP 192.168.0.28:58770 > 13.32.215.252:https FA\n",
      "Ether / IP / TCP 13.32.215.252:https > 192.168.0.28:58770 FA\n"
     ]
    }
   ],
   "source": [
    "pkt = sniff(count=3, filter='tcp', prn=Packet.summary)"
   ]
  },
  {
   "cell_type": "code",
   "execution_count": 15,
   "metadata": {},
   "outputs": [
    {
     "data": {
      "text/plain": [
       "<Ether  dst=00:90:a9:e3:b8:bb src=b8:e8:56:34:af:08 type=0x800 |<IP  version=4 ihl=5 tos=0x20 len=552 id=0 flags=DF frag=0 ttl=64 proto=tcp chksum=0xb739 src=192.168.0.28 dst=192.168.0.10 |<TCP  sport=57912 dport=afpovertcp seq=4294824139 ack=3654483264 dataofs=5 reserved=0 flags=A window=32768 chksum=0x3d47 urgptr=0 |<Raw  load=\"\\xa6-\\x9e\\xa5\\xa7Cf\\xe3\\x97\\x04\\xe4\\x03\\xf5\\xae\\x9b\\xe1\\xe6\\x9b\\xe0\\xad*\\xf1$\\xf1M\\x82_[\\x06\\xc3\\x802\\x08\\xa9|S\\xf0o^\\xbaq\\xabi\\xbe,\\xb4\\x942\\x9d\\xf6\\xd6N1\\xef\\x9c\\xd5_\\x08h\\xf6\\x1a:\\x9bG-;\\xa3\\x1d\\xc5\\xdb<\\xd76-\\xce\\x11M\\x1d\\xb8i\\xfbH\\xb5s\\xac\\xf8\\x83\\xf0\\xb7\\xc0\\x97\\xbak^\\xfc(\\xf8]uo C$\\xda\\x94\\xf0\\x00\\x81z\\x9e\\x84\\x9a\\xf2\\xfd/V\\x16\\x17\\xa7\\xc8+$i.\\xc7\\x0b\\xeb\\x9e\\x7f*\\xfa\\xf3\\xe14\\x7f\\xf0\\x91\\xfc,\\x9a\\xde\\xff\\x00^\\x82\\x04Eu\\x96\\xdeG\\x19\\t\\xb7\\xff\\x00\\xd7_3\\xfcL\\xf8]\\xa2x\\x1f\\xc4SA\\xe1\\xbdB\\x16\\xb6\\x9eV\\x95Q\\x1b\\x80I\\xcei\\xe2\\xa1N\\xae\\x19Inq\\xe1\\xea\\xba8\\xcdv>\\x82\\xfd\\x97\\xfe2|>\\xf8\\x7f\\x13\\xc1\\xe3\\xab\\xabht\\xfb\\x98\\xbec,A\\x8e\\xef\\xcb'\\xbf\\x15\\x0f\\xed\\x01\\xf1\\xb3\\xe0\\xech5\\x9f\\xd9\\xfe\\xde\\xfbQ\\xd4\\xe4;V\\xd6\\xca\\xc5\\x84Y\\xfa8\\x1f\\x8e3^;\\xf0\\xbf\\xc6\\xda'\\x87\\xa5\\xb6\\xd4\\xf5w\\x88ZD\\xe0\\\\4\\xe8X\\x01\\xf4\\xf4\\xafU\\xf8\\x8f\\xff\\x00\\x05#\\xf8#\\xe0?\\x0e\\xb4~\\x11\\xf0,\\x1a\\x94\\xb6\\xe8\\xa2;\\x8bKa\\x12Hs\\x80>e\\x07\\x9f\\xa1\\xaeL,*EX\\xf5\\xf1\\x91\\x8dJ\\x8aP\\xd8\\xee\\xff\\x00f\\x9f\\x87\\xf6\\x0f;|B\\xf8\\xdb\\xe1\\xaf.\\xf3R\\xb4Uk\\x96O\\xdd\\xc4{\\x8c\\xfe$\\x7fJ\\xd3\\xf8\\xb1\\xff\\x00\\x08O\\xc3\\xbf\\x0e\\xdd\\xf8\\x9bD\\xd7\\x9a\\xee\\xd6\\x19\\xc4f\\xca\\xcd\\x99\\xe6vc\\x84U\\t\\x9c\\x92x\\x1d+\\xe7\\x98\\xbe0\\xfcf\\xfd\\xb25\\x1b\\r\\x07U\\xf1\\xa5\\x9f\\x81\\xbc*!Y\\x0c6w\\x00Ks\\xceN\\xf6\\xcf\\xcb\\xc0\\xe0q\\xcfj\\xe9,.\\xfe\\x17|\\x16\\x13\\xe9?\\x0f\\xbfh\\xdb\\xe9\\xe7B\\r\\xd4\\x1fc\\xfbBHz\\xf0v0?\\x81\\xae\\x99FQZ#\\xcb\\xab\\x16\\xa5c\\x82\\xf1\\xa6\\x8b\\xf1w\\xf6\\x83\\xb9\\x9e\\xc7U\\xf1&\\xa1\\xa5\\xe9\\xd0\\xcb\\xba\\xdfG\\x88\\xe2x\\xd3\\xb0c\\x9e\\t\\xeb\\x8ej\\xef\\xc3\\x9f\\xd9\\x8b\\xe3\" |>>>>"
      ]
     },
     "execution_count": 15,
     "metadata": {},
     "output_type": "execute_result"
    }
   ],
   "source": [
    "# Si on veut en savoir un peu plus sur la dernière requette\n",
    "pkt[2]"
   ]
  },
  {
   "cell_type": "markdown",
   "metadata": {},
   "source": [
    "C'est somme toute incomprehensible pour le commun des mortels, mais rassurez vous les machines comprennent très bien qu'il s'agit d'une requette de sauvegarde sur un disque externe !"
   ]
  }
 ],
 "metadata": {
  "kernelspec": {
   "display_name": "Python 3",
   "language": "python",
   "name": "python3"
  },
  "language_info": {
   "codemirror_mode": {
    "name": "ipython",
    "version": 3
   },
   "file_extension": ".py",
   "mimetype": "text/x-python",
   "name": "python",
   "nbconvert_exporter": "python",
   "pygments_lexer": "ipython3",
   "version": "3.7.1"
  }
 },
 "nbformat": 4,
 "nbformat_minor": 2
}

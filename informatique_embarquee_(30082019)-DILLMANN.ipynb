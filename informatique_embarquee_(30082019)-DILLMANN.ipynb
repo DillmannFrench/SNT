{
 "cells": [
  {
   "cell_type": "markdown",
   "metadata": {},
   "source": [
    "# Objets connectés\n",
    "\n",
    "Les objets connectés, [des robots dans nos maisons](http://lienmini.fr/3389-701) ?\n",
    "\n",
    "L'impact de la robotisation [dans les magasins](http://lienmini.fr/3389-707)\n",
    "\n",
    "Question déclencheante : *\" Si on dispose d'un employé et d'un robot. Faut il confier une tâche répétitive et fastidieuse à l'un ou à l'autre pour qu'elle soit correctement réalisée ? \"*\n",
    "\n",
    "Nous allons parler d'un certain type de robot appelés : les systèmes embarqués. Les connaissances de technologies sur la fabrication de robots est un prérequis pour comprendre ce cours.\n",
    "\n",
    "Comment utiliser un microcontrôleur pour automatiser une tâche de caractérisation ? Dans le cas d’une série de résistors, cette tâche est particulièrement fastidieuse et il sera impossible de la reproduire à l’identique en changeant le manipulateur, un robot testeur doit donc être conçu pour relever le défi et permettre à tous de travailler en équipe."
   ]
  },
  {
   "cell_type": "markdown",
   "metadata": {},
   "source": [
    "## A) Géneralités"
   ]
  },
  {
   "cell_type": "markdown",
   "metadata": {},
   "source": [
    "## 1) Les systèmes informatiques embarqués\n",
    "\n",
    "Un système informatique embarqué est intégré à un objet. Il contrôle les entrées et les sorties de celui-ci grâce à ses composants, dont les principaux sont :\n",
    "- La carte programmable\n",
    "- Les capteurs\n",
    "- Les actionneurs\n",
    "Il est destiné à piloter l'objet à distance (en faisant remonter des informations sur le cloud) ou de manière autonome (grâce à des algorithmes qui permettent à son système de contrôle de s'orienter vers des objectifs programmés). \n",
    "\n",
    "Lorsqu'un système informatique embarqué échange des données avec un ordinateur on parle d'**objet connecté**.\n",
    "\n",
    "Le smartphone est un exemple d'un tel objet. "
   ]
  },
  {
   "cell_type": "markdown",
   "metadata": {},
   "source": [
    "## 2) La programmation d'un système infomatique embarqué\n",
    "\n",
    "Pour programmer un système informatique embarqué, on doit organiser la tâche à accomplir sous forme d'un **algorithme**. C'est une suite d'instructions qui comprends notament des **fonctions** spécifiques aux capteurs et actionneurs. On ecrit un **programme** dans un langage qui puisse être interprété par le système.\n",
    "\n",
    "Pour l'execution de celui-ci il faut le **téléverser** dans le système à travers un **port** de communication. On parle aussi de `flashage` du logiciel pilote pour décrire cette étape d'implémentation.\n",
    "\n",
    "Dans ce cours nous allons voire quelques éléments de codage qui seront utiles pour interpéter un programme de contrôle.\n",
    "\n",
    "On va d'abord s'intéresser aux **fonctions** puis on vera un exemple d'**algorithme** et finallement nous rentrerons dans le **programme** du microcontroleur."
   ]
  },
  {
   "cell_type": "markdown",
   "metadata": {},
   "source": [
    "### Première introduction aux fonctions en langage python\n",
    "\n",
    "Une fonction est un outil de programmation qui permet de transformer des donnée en entrée (appelés arguments) par des résultats en sortie. Sa syntaxe est très formelle : \n",
    "\n",
    "~~~python\n",
    "def NOM_DE_LA_FONCTION (argument1):\n",
    "    return resultat\n",
    "~~~\n",
    "\n",
    "Notez bien les deux points après la déclaration de l'argument, ainsi que l'indentation (l'espace au début de la ligne où se trouve la commande \n",
    "~~~python\n",
    "    return\n",
    "~~~\n",
    "qui renvoie le produit de la fonction. On renvoie au notebook *informatique_embarquee_INTRO_FONCTIONS-DILLMANN.ipynb* qui présente des exemples de fonctions."
   ]
  },
  {
   "cell_type": "markdown",
   "metadata": {},
   "source": [
    "## 3) L'interface homme-machine\n",
    "\n",
    "Les programmes à téléverser sont des codes écris dans un langage de haut niveau (le `C++`) qui doit être *compilé* par un EDI (un **Environement de Développement Intégre**)\n",
    "\n",
    "La suite d'instructions d'un logiciel de programation est appellée à être \"compilée\" ce qui veut dire transformée en un langage adapté à la machine avant d'être téleversée sur la machine elle même en language machine.\n",
    "\n",
    "Le transfert des données fait appel à la notion de *Binary Digit* que l'on peut ecrire **BI**nary digi**T** : ou plus simplement  **BIT** , un mot valise qu'il faut absolument connaître pour comprendre le fonctionnement des programmes. Désormais nous utiliserons le mot \"bit\" pour caractériser la plus petite unité d'information qui puisse être transmise à un ordinateur.\n",
    "\n",
    "Dès que le programme a été compilé de façon satisfesante, il doit être implémenté sur le microcontroleur. On appelle cette opération l'étape de *téeversement*. Il est indispensable que la liaison entre l'ordinateur ou se trouve l'EDI et la carte soit correctement pilotée."
   ]
  },
  {
   "cell_type": "markdown",
   "metadata": {},
   "source": [
    "### 3.1) La programmation d'un système de type Arduino (lecture d'un port analogique)\n",
    "\n",
    "L'exemple suivant est extrait de la bibliothèque des exemples de base et permet de lire la valeur d'une résistance dans un potentiomètre.\n",
    "\n",
    "La programmation de l'arduino se fait en langage `C++`, qui a de nombreux points de différence avec le langage Python. Mais à notre niveau c'est pratiquement la même chose :\n",
    "\n",
    "~~~ cpp\n",
    "void setup() {\n",
    "  // initialise le port de communication serie a 115200 bits par seconde\n",
    "  Serial.begin(115200);\n",
    "}\n",
    "\n",
    "// la fonction suivante est destinée à être executé en permanence\n",
    "void loop() {\n",
    "  // Lis la valeur du port analogique qui se trouve au pin 0 :\n",
    "  int sensorValue = analogRead(A0);\n",
    "  // imprimer la valeur qui est lue :\n",
    "  Serial.println(sensorValue);\n",
    "  delay(1);        // pour des raisons de stabilité\n",
    "}\n",
    "~~~"
   ]
  },
  {
   "cell_type": "markdown",
   "metadata": {},
   "source": [
    "On retrouve deux sortes de fonctions principales :\n",
    "\n",
    "~~~ c\n",
    "void setup() \n",
    "void loop()\n",
    "~~~\n",
    "\n",
    "La première définit la vitesse à laquelle les bits vont être envoyés quant à la deuxième elle constitue le coeur du programme puis-ce que c'est elle qui demande la lecture du signal qui se trouve sur le pin 0, grâce à la fonction `analogRead()` et qui imprime dans la console série le résultat grâce à une autre fonction `Serial.println()`.\n",
    "\n"
   ]
  },
  {
   "cell_type": "markdown",
   "metadata": {},
   "source": [
    "### 3.2) La programmation d'un système de type Arduino (géneration d'un signal)\n",
    "\n",
    "Dans le programme suivant on va voire comment utiliser une des sortie digitales qui se trouve alignées avec le bouton 'réset'. Ces sorties ne doivent **jamais** être reliées de l'une à l'autre sous peine de détruire la platinne. \n",
    "\n",
    "\n",
    "~~~cpp\n",
    "/*\n",
    "\n",
    "    Gradateur de lumière\n",
    "\n",
    "           Cet exemple montre comment estomper progressivement la lueur d'une LED sur la broche 9 en utilisant la fonction :  \n",
    "           \n",
    "           analogWrite()\n",
    "  \n",
    "  Description de la fonction.\n",
    "\n",
    "  La fonction analogWrite() utilise PWM (Impulsion modulée en amplitude), donc si vous voulez changer la broche en utilisant une autre carte, assurez-vous d'utiliser une autre broche compatible PWM. \n",
    " \n",
    "  Sur la plupart des Arduino, les broches PWM sont identifiés par un signe \"~\", \n",
    "  comme ~3, ~5, ~6, ~9, ~10 et ~11.\n",
    "  \n",
    "  Dans la carte PlugUino la tilde à disparut mais le pins D10 est PWM on pourra vérifier que les autres sont bien ajustables\n",
    "\n",
    "  Cet example appartient au domaîne publique\n",
    "  \n",
    "  http://www.arduino.cc/en/Tutorial/Fade\n",
    "*/\n",
    "\n",
    "int led = 9;           // the PWM pin qui alimente la DEL\n",
    "int brightness = 0;    // niveau de luminosité de la DEL\n",
    "int fadeAmount = 5;    // combien d'etapes de variation pour la DEL\n",
    "\n",
    "// la routine de configuration s'exécute une fois lorsque vous appuyez sur reset :\n",
    "void setup() {\n",
    "  // déclare que la broche 9 est une sortie :\n",
    "  pinMode(led, OUTPUT);\n",
    "}\n",
    "\n",
    "// la routine de la boucle se répète encore et encore, pour toujours :\n",
    "void loop() {\n",
    "  // régler la luminosité de la broche 9 :\n",
    "  analogWrite(led, brightness);\n",
    "\n",
    "  // modifier la luminosité pour la prochaine fois à travers la boucle :\n",
    "  brightness = brightness + fadeAmount;\n",
    "\n",
    "  // inverser le sens du fondu lumineux une fois que l'on est parvennu aux extrémités :\n",
    "  if (brightness <= 0 || brightness >= 255) {\n",
    "    fadeAmount = -fadeAmount;\n",
    "  }\n",
    "  // attendre 30 millisecondes pour voir l'effet de gradation\n",
    "  delay(30);\n",
    "}\n",
    "~~~\n",
    "\n",
    "Nous avons les deux éléments qui vont nous permettre de faire notre propre robot de caractérisation de dipôles\n"
   ]
  },
  {
   "cell_type": "markdown",
   "metadata": {},
   "source": [
    "## B) Application : Le robot caracteriseur de dipôles\n",
    "\n",
    "Nous allons nous intéresser à un type d'automate très courant dans les équipes de recherche et développement dans lesquelles on prépare la conception de nouveaux composants. On appelle cela des \"[Flying Probes](https://youtu.be/syQDnRmdhmA)\". \n",
    "\n",
    "La tension $U_{AB}$ aux bornes du dipôle est une fonction de la variable intensité $I$ qui le traverse : $U_{AB}= f (I)$.\n",
    "La caractéristique tension-courant d'un dipôle est la courbe représentative de $f$ avec $I$ en abscisse et $U_{AB}$ en ordonnée.\n",
    "\n",
    "Dans ce cas :\n",
    "- La carte programmable est de type Arduino (ou assimilé)\n",
    "- L'actionneur est un signal de tension, triangulaire allant de $0\\,V$ à presque $5\\,V$\n",
    "- Les capteurs sont les tensions mesurées de part et d'autre d'un dipôle à caractériser"
   ]
  },
  {
   "cell_type": "markdown",
   "metadata": {},
   "source": [
    "## 1) Situation de départ : Quelle démarche suivre pour tracer la caractéritique d'un dipôle avec des multimètres ?\n",
    "\n",
    "On s'intéresse d'abord à la démarche \"artisanalle\" qui consiste à relever pour différentes tensions d'un générateur à tension variable l'intensité $I$ et la tension $U_{AB}$ que l'on reporte dans un tableau.\n",
    "\n",
    "Le montage correspond à ce qui a été vu en 4ème : \n",
    "\n",
    "<p><img src=\"./circuit_4eme1.png\" alt=\"Schéma simplifié\" /></p>\n"
   ]
  },
  {
   "cell_type": "markdown",
   "metadata": {},
   "source": [
    "L'énnoncé de l'exercice résolut au collège est :\n",
    "\n",
    "\"Tracez la caractéritique tension-courant de la résistance étudiée. Sur du papier milimètré identifiez le modèle physique qui permet de représenter la distribution des couples de points.\"\n",
    "\n",
    "expérimentalement on observe que quand on augmente la tension, les électrons circulent mieux et le courant électrique augmente en intensité. La tension et l'intensité sont donc proportionnelles.\n",
    "\n",
    "Grâce à la loi d'Ohm $ U = R \\times I $, qui permet de modéliser la relation entre la tension aux bornes d'un résistor et le courant qui le traverse, on peut de plus \"ajuster\" une valeur de la résistance : c'est à dire trouver le paramêtre juste, pour qu'une résistance simulée corresponde à la resistance mesurée."
   ]
  },
  {
   "cell_type": "code",
   "execution_count": 1,
   "metadata": {},
   "outputs": [],
   "source": [
    "import pygraphviz as pgv"
   ]
  },
  {
   "cell_type": "code",
   "execution_count": 2,
   "metadata": {},
   "outputs": [],
   "source": [
    "G1=pgv.AGraph(strict=False,directed=True)\n",
    "\n",
    "G1.add_node(\"Augmeter un peu la puissance du générateur 'G' \")\n",
    "G1.add_node(\"Relever la valeur de l'intensité I \\n à l'ampèremetre et l'ecrire dans un tableau\")\n",
    "G1.add_node(\"Relever la valeur de la tension U \\n au voltmètre et l'ecrire dans un tableau\")\n",
    "G1.add_node(\"Reporter les coordonées des couples ainsi obtennus sur le papier milimétré\")\n",
    "G1.add_node(\"Est ce que le nombre de points permet \\n de faire passer une droite par l'origine \\n pour en relier le plus possible ?\")\n",
    "G1.add_node(\"Oui\",color=\"white\")\n",
    "G1.add_node(\"Non\",color=\"white\")\n",
    "G1.add_node(\"Quelle est la pente de cette droite ?\")\n",
    "G1.add_node(\"Déterminer la valeur de la Résistance\")\n",
    "\n",
    "G1.add_edge(\"Augmeter un peu la puissance du générateur 'G' \",\"Relever la valeur de l'intensité I \\n à l'ampèremetre et l'ecrire dans un tableau\")\n",
    "G1.add_edge(\"Augmeter un peu la puissance du générateur 'G' \",\"Relever la valeur de la tension U \\n au voltmètre et l'ecrire dans un tableau\")\n",
    "G1.add_edge(\"Relever la valeur de l'intensité I \\n à l'ampèremetre et l'ecrire dans un tableau\",\"Reporter les coordonées des couples ainsi obtennus sur le papier milimétré\")\n",
    "G1.add_edge(\"Relever la valeur de la tension U \\n au voltmètre et l'ecrire dans un tableau\",\"Reporter les coordonées des couples ainsi obtennus sur le papier milimétré\")\n",
    "G1.add_edge(\"Reporter les coordonées des couples ainsi obtennus sur le papier milimétré\",\"Est ce que le nombre de points permet \\n de faire passer une droite par l'origine \\n pour en relier le plus possible ?\")\n",
    "G1.add_edge(\"Est ce que le nombre de points permet \\n de faire passer une droite par l'origine \\n pour en relier le plus possible ?\",\"Oui\")\n",
    "G1.add_edge(\"Est ce que le nombre de points permet \\n de faire passer une droite par l'origine \\n pour en relier le plus possible ?\",\"Non\")\n",
    "G1.add_edge(\"Non\",\"Augmeter un peu la puissance du générateur 'G' \")\n",
    "G1.add_edge(\"Oui\",\"Quelle est la pente de cette droite ?\")\n",
    "G1.add_edge(\"Quelle est la pente de cette droite ?\",\"Déterminer la valeur de la Résistance\")\n",
    "\n",
    "G1.layout(prog='dot')\n",
    "\n",
    "G1.draw('file_prof1.png')"
   ]
  },
  {
   "cell_type": "markdown",
   "metadata": {},
   "source": [
    "<p><img src=\"./file_prof1.png\" alt=\"Un algorigramme artisanal\" /></p>"
   ]
  },
  {
   "cell_type": "markdown",
   "metadata": {},
   "source": [
    "Avant de passer à la section suivante on va modifier un peu la disposition des élements du\n",
    "montage vu auparavant \n",
    "\n",
    "<p><img src=\"./circuit_4eme2.png\" alt=\"Schéma simplifié\" /></p>"
   ]
  },
  {
   "cell_type": "markdown",
   "metadata": {},
   "source": [
    "Dans ce deuxième schéma les composant ont été redistribués, mais ils accomplissent exactement les mêmes fonctions. On notera que $E_v$ est un générateur variable qui alimente les deux résistance en série. Son implémentation n'est pas au programme de seconde car il implique la notion de circuit RC sur laquelle nons allons passer."
   ]
  },
  {
   "cell_type": "markdown",
   "metadata": {},
   "source": [
    "## 2) L'algorithme d'estimation de la résistance d'un résistor inconnu à l'aide d'une platine Arduino / PlugUino UNO\n",
    "\n",
    "\n",
    "### 2.1) Quel circuit equivalent ? \n",
    "\n",
    "\n",
    "\n",
    "\n",
    "Nous allons maintenant étudier l'algorithme de tracé de la courbe caractéristique d'un résistor. Et présenter le code `cpp` qui va être effectivement utilisé pour la mesure de la resistance. "
   ]
  },
  {
   "cell_type": "markdown",
   "metadata": {},
   "source": [
    "<p><img src=\"./points.jpeg\" alt=\"Image sur PlugUino\" /></p>"
   ]
  },
  {
   "cell_type": "markdown",
   "metadata": {},
   "source": [
    "- Le point $A$ correspond à l'entrée du signal filtré programmé comme pour le gradateur de lumière. Sa tension `SIG2` est captée\n",
    "- Le point $B$ est le point de contact entre la résistance inconnue et la charge de référence, sa tension `SIG1` est également captée\n",
    "- Le point $C$ est le point de masse `GND`\n",
    "- Le point $D$ est l'entrée du PWM sur le filtre. C'est le seul cable qui sorte du brochage des sorties digitales. Ce canal alimente le générateur variable $E_v$\n",
    "\n",
    "On remarque que le filtre à été soudé sur une platine de test pour le rendre indépendant. Une résistance de $1\\,k\\Omega$ en série acec une capacité de $470\\,\\mu F$ convient pour obtenir une tension lissée dont la valeur maximale est à déterminer en fonction du filtre.\n",
    "\n",
    "L'élève est encouragé à déterminer cette valeur lors d'une étape de calibration.\n",
    "\n",
    "\n",
    "Dans un cicuit la loi des mailles appliquée au tensions prédit que :\n",
    "\n",
    "$$U_{AB} + U_{BC} = U_{AC}$$\n",
    "\n",
    "Dans notre cas la tension au borne du circuit où la resistance connue (`charge_resistor`) est en série avec la résistance dont on veut connaître la caractéristique. \n",
    "\n",
    "$$U_{AC} = \\tt{v_{RC}} $$\n",
    "\n",
    "$$U_{AB} = \\tt{v_R} $$\n",
    "\n",
    "$$U_{BC} = \\tt{i_{circ}} \\times  R_{charge\\,resistor} $$\n",
    "\n",
    "On voit que ce montage s'affranchit d'un ampèremetre en utilisant la tension aux bornes d'une résistance."
   ]
  },
  {
   "cell_type": "markdown",
   "metadata": {},
   "source": [
    "Finalemment la loi des nœuds prévoit que la somme des inténsités des courants **arrivant à un noeud** est égale à la somme des intensités des **courants qui en repartent**. Concrétement : Si $Ie$ est le courant entrant, les courants sortants sont $Is_1$ et $Is_1$ en un noeud on peut écrire : \n",
    "\n",
    "$$ Ie=Is_1+Is_2$$\n",
    "\n",
    "Mais comme dans le cas de notre circuit aucun courant ne passe dans la platine arduino car les entrées analogiques on une résistance d'entré très grande. Il n'y a qu'un seul courant circulant dans les circuit : $\\tt{i_{circ}}$"
   ]
  },
  {
   "cell_type": "markdown",
   "metadata": {},
   "source": [
    "La représentation schématique du circuit devient donc la suivante. \n",
    "<p><img src=\"./circuit_4eme3.png\" alt=\"Schéma implémenté\" /></p>"
   ]
  },
  {
   "cell_type": "markdown",
   "metadata": {},
   "source": [
    "On retrouve :\n",
    "\n",
    "- Le point $A$ qui est envoyé sur l'entrée analogique $A_1$\n",
    "- Le point $B$ qui est envoyé sur l'entrée analogique $A_2$\n",
    "- Le point $C$ qui est la masse\n",
    "- Le point $D$ qui correspond à la sortie digitale $D_{10}$"
   ]
  },
  {
   "cell_type": "markdown",
   "metadata": {},
   "source": [
    "Nous avons documenté le montage sur une carte arduino UNO. La connection à l'ordinateur n'est pas visible, mais elle est indispensable pour récupérer les données sur le moniteur série de l'EDI.\n",
    "L'association série : {résistance inconnue + resistor de charge} est alimenté par un signal triangulaire dont le maximum atteint $4,9\\,V$ on peut se servir d'un multimètre pour confirmer que $V_{RC}$ correspond bien à la valeur renvoyée sur le moniteur série.\n",
    "\n",
    "<p><img src=\"./cablage_arduino.png\" alt=\"Schéma implémenté\" /></p>"
   ]
  },
  {
   "cell_type": "markdown",
   "metadata": {},
   "source": [
    "### 2.2) Algorithme de l'automate\n",
    "\n",
    "Nous allons réaliser un algorigramme sommaire qui s'appuie sur six états qui sont mis en relation de haut en bas pour parvenir à la détermination de la résistance par une methode graphique. Nous verons ensuite que cet approche doit rentrer dans les détails..."
   ]
  },
  {
   "cell_type": "code",
   "execution_count": 3,
   "metadata": {},
   "outputs": [],
   "source": [
    "G=pgv.AGraph(strict=False,directed=True)\n",
    "\n",
    "G.add_node(\"Estimation de la résistance \\n d'un résistor inconnu\",color='yellow',shape='box')\n",
    "G.add_node(\"Utilisation de la \\n loi d'Ohm\",color='blue',shape='box',style=\"rounded\")\n",
    "G.add_node(\"Utilisation de la \\n loi des mailles\",color='blue',shape='box',style=\"rounded\")\n",
    "G.add_node(\"Utilisation de la \\n loi des nœuds\",color='blue',shape='box',style=\"rounded\")\n",
    "G.add_node(\"Tracé d'une courbe de U=f(I)\")\n",
    "G.add_node(\"Faire varier Ev\",color='green')\n",
    "G.add_node(\"Récupérer la valeur de I \\n à travers R\",color='red')\n",
    "G.add_node(\"Prendre un résistor \\n de valeur connue\")\n",
    "G.add_node(\"Récupérer la valeur de U \\n au bornes de R\",color='red')\n",
    "\n",
    "G.add_edge(\"Faire varier Ev\",\"Utilisation de la \\n loi des mailles\")\n",
    "G.add_edge(\"Utilisation de la \\n loi des mailles\",\"Récupérer la valeur de U \\n au bornes de R\")\n",
    "\n",
    "G.add_edge(\"Récupérer la valeur de U \\n au bornes de R\",\"Tracé d'une courbe de U=f(I)\")\n",
    "G.add_edge(\"Récupérer la valeur de U \\n au bornes de R\",\"Utilisation de la \\n loi d'Ohm\")\n",
    "G.add_edge(\"Faire varier Ev\",\"Prendre un résistor \\n de valeur connue\")\n",
    "G.add_edge(\"Prendre un résistor \\n de valeur connue\",\"Utilisation de la \\n loi d'Ohm\")\n",
    "G.add_edge(\"Utilisation de la \\n loi des nœuds\" ,\"Récupérer la valeur de I \\n à travers R\")\n",
    "G.add_edge(\"Utilisation de la \\n loi d'Ohm\",\"Récupérer la valeur de I \\n à travers R\")\n",
    "G.add_edge(\"Utilisation de la \\n loi d'Ohm\",\"Tracé d'une courbe de U=f(I)\")\n",
    "G.add_edge(\"Récupérer la valeur de I \\n à travers R\",\"Tracé d'une courbe de U=f(I)\")\n",
    "G.add_edge(\"Tracé d'une courbe de U=f(I)\",\"Utilisation de la \\n loi d'Ohm\")\n",
    "G.add_edge(\"Utilisation de la \\n loi d'Ohm\",\"Estimation de la résistance \\n d'un résistor inconnu\")\n",
    "\n",
    "G.layout(prog='dot')\n",
    "\n",
    "G.draw('file_prof2.png')"
   ]
  },
  {
   "cell_type": "markdown",
   "metadata": {},
   "source": [
    "<p><img src=\"./file_prof2.png\" alt=\"Un algorigramme simplifié\" /></p>"
   ]
  },
  {
   "cell_type": "markdown",
   "metadata": {},
   "source": [
    "On constate la **centralité** de l'utilisation de la loi d'Ohm dans ce graphe. D'autre part le contrôle de U est le point de départ, à la fois pour établir I et pour la détermination de la courbe U=f(I)"
   ]
  },
  {
   "cell_type": "markdown",
   "metadata": {},
   "source": [
    "## 3) L' interfaces utilisateurs du programme de caractérisation automatique\n",
    "\n",
    "\n",
    "le logiciel (interface) Arduino est un programme `C++` qui est commanté ici :\n",
    "C'est le programme à téléverser pour lire les valeurs de la tension variable à l'entrée du circuit (équivalent de 'G') dans le port USB du microcontroleur.\n",
    "\n",
    "~~~~cpp\n",
    "/*\n",
    "  U en fonction de I pour déterminer la valeur d'une résistance\n",
    "\n",
    "  Baudouin DILLMANN\n",
    "  23/06/2019\n",
    "  baudouin.dillmann@ac-paris.fr\n",
    "  \n",
    "  Le programme est fourni tel quel, il précise certains ajustements pour l'adapter à vos branchements\n",
    "\n",
    "\n",
    "  Cet exemple montre comment tracer U=f(I) \n",
    "  afin d'obtenir une droite caracteristique d'un résistor\n",
    "  \n",
    "  elle utilise \n",
    "   -la fonction analogWrite() pour mesurer la tension aux bornes de la resistance.\n",
    "\n",
    "  Le circuit:\n",
    "  - Un étage comprenant un Filtre RC en sortie de la tension variable obtenue \n",
    "    par train d'impulsions modulées en largeur (PMW).\n",
    "  - Le résistor à tester à la sortie de ce filtre\n",
    "  - Un résistor de faible résistance, dont la valeur connue nous permet de calculer le courant circulant dans le\n",
    "   circuit des deux résistances en série (appellé résistor de référence).\n",
    "\n",
    "  Cet exemple de code s'inspire de deux exemples extraits de la documetation d'Arduino :\n",
    "  \n",
    "   http://www.arduino.cc/en/Tutorial/AnalogInput (mesure d'une tension)\n",
    "   http://www.arduino.cc/en/Tutorial/Fading (pour faire varier la tension en signal triangulaire)\n",
    "\n",
    "  Pour le calcul du filtre RC indispensable en sortie d'un PMW:\n",
    "  \n",
    "   https://www.instructables.com/id/Arduino-RC-Circuit-PWM-to-analog-DC\n",
    "\n",
    "   Ce code a été testé avec succés pour des résistances comprises entre 10 et 30 kOhm\n",
    "   \n",
    " */\n",
    "\n",
    "\n",
    "/* Macro de conversion valeur numérique -> tension en volts */\n",
    "#define ADC_TO_VOLTS(value) ((value / 1023.0) * 4.9)\n",
    "\n",
    "\n",
    "int sortiePWM = 10;    // Utilisation d'un pin digital délivrant un PMW\n",
    "const float charge_resistor = 720.; // Valeur de la resistance du  resistor de référence  en Ohm\n",
    "const byte analog_pin_Volt = A1;   // Lecture de la tension aux bornes des deux resistances\n",
    "const byte analog_pin_Amp = A0;   // Lecture de la tension aux bornes du resistor de référence Ohm\n",
    "\n",
    "void setup() {\n",
    "  Serial.begin(115200);\n",
    "  // On force la fréquence de communication avec le traceur série\n",
    "}\n",
    "\n",
    "void loop() {\n",
    "\n",
    "\n",
    "   unsigned int analog_V1; // mesure de la tension analogique en sortie du RC\n",
    "   unsigned int analog_V2; // mesure de la tension analogique entre la borne commune de la resistance de reférence et la masse\n",
    "   unsigned int analog_V3; // calcul de la tension analogique entre les deux bornes de la resistance à mesurer U_R\n",
    "\n",
    "   \n",
    "  // Rampe vers le haut\n",
    "\n",
    "  // Rampe de tension de O à 5V par increments de 1 pas :\n",
    "  for (int rampeTension = 0 ; rampeTension <= 255; rampeTension += 1) {\n",
    "    // sets the value (range from 0 to 255):\n",
    "    analogWrite(sortiePWM, rampeTension);\n",
    "    // attendre 300 millisecondes pour observer les fluctuations\n",
    "    delay(300);\n",
    "  \n",
    "  /* Mesure de la tension de la batterie (en volts) */\n",
    "  analog_V1 = analogRead(analog_pin_Volt);\n",
    "  analog_V2 = analogRead(analog_pin_Amp);\n",
    "  analog_V3 = analog_V1-analog_V2;\n",
    "  \n",
    "  float v_RC = ADC_TO_VOLTS(analog_V1);\n",
    "  float v_R = ADC_TO_VOLTS(analog_V3);\n",
    "  \n",
    "  /* Calcul de l'intensité en utilisant U = R x I \n",
    "  où U est v_2 et R charge_resistor \n",
    "  I est donnée en dixième de miliampères : 1E-4 A */\n",
    "  \n",
    "    float v_2 = ADC_TO_VOLTS(analog_V2);\n",
    "    float i_circ = (v_2 * 10000) / charge_resistor; // I = U / R\n",
    "    \n",
    "  /* \n",
    "   Ecriture des valeurs en format \"0.00\" séparés par des virgules\n",
    "   */\n",
    "   \n",
    "    Serial.print(v_RC);\n",
    "    Serial.print(',');\n",
    "    Serial.print(i_circ);\n",
    "    Serial.print(',');\n",
    "    Serial.print(v_R);\n",
    "    Serial.println();\n",
    "\n",
    "  }\n",
    "\n",
    "  // Rampe vers le bas\n",
    "\n",
    "\n",
    "  // Rampe de tension de 5 à 0V par décrements de 1 pas :\n",
    "  for (int rampeTension = 255 ; rampeTension >= 0; rampeTension -= 1) {\n",
    "    // sets the value (range from 0 to 255):\n",
    "    analogWrite(sortiePWM, rampeTension);\n",
    "    // attendre 300 millisecondes pour observer les fluctuations\n",
    "    delay(300);\n",
    "\n",
    "   analog_V1 = analogRead(analog_pin_Volt);  \n",
    "   analog_V2 = analogRead(analog_pin_Amp);\n",
    "   analog_V3 = analog_V1-analog_V2;\n",
    "   \n",
    "   float v_RC = ADC_TO_VOLTS(analog_V1);\n",
    "   float v_R = ADC_TO_VOLTS(analog_V3);\n",
    "\n",
    " /* Calcul de l'intensité en utilisant U = R x I \n",
    "  où U est v_2 et R charge_resistor \n",
    "  I est donnée en dixième de miliampères : 1E-4 A */\n",
    "  \n",
    "    float v_2 = ADC_TO_VOLTS(analog_V2);\n",
    "    float i_circ = (v_2 * 10000) / charge_resistor; // I = U / R\n",
    "  \n",
    "  /* \n",
    "   Ecriture des valeurs en format \"0.00\" séparés par des virgules\n",
    "   */\n",
    "   \n",
    "    Serial.print(v_RC);\n",
    "    Serial.print(',');\n",
    "    Serial.print(i_circ);\n",
    "    Serial.print(',');\n",
    "    Serial.print(v_R);\n",
    "    Serial.println();\n",
    "\n",
    "  }\n",
    "}\n",
    "~~~~\n",
    "\n"
   ]
  },
  {
   "cell_type": "markdown",
   "metadata": {},
   "source": [
    "## 3) Spécificités de l'interface homme-machine \n",
    "\n",
    "Quelques précisions technologiques concernant le matériel utilisé lors de la séance expérimentale : \n",
    "\n",
    "On utilise un EDI, ici c'est (*Arduino IDE 1.8.9*), mais cela pourrait tout aussi bien être *MBlocks* ou tout autre *interface*. C'est un programme qui permet à une carte de type Arduino/Genuino comme le PlugUino de la sociéte [sciencethic](https://www.sciencethic.com/ressources.html). L'accés au port *dev/cu.usbserial* par un connecteur USB sur USM micro B, se fait après avoir installé les drivers `ch34x` qui se trouvent [là](https://www.srishtirobotics.com/more/blog/154-arduino-uno-r3-clone-ch340-ch341-usb-driver). Une fois que les paramètres de l'onglet *outil* ont été choisis on peut recopier le code `cpp` directement dans la fenètre \"scketch\""
   ]
  },
  {
   "cell_type": "markdown",
   "metadata": {},
   "source": [
    "Toujours dans l'EDI, selectionnez le port série qui correspond à votre carte, si vous avez installé le driver correctemment elle apparaît sur le port USB. Les données sont envoyés soit sous forme graphique à l'aide du *traceur série*, soit sous forme d'une liste de coordonéés a l'aide du *moniteur série* nous avons extrait ces valeurs pour le tracé de la caractéristique $U=R \\times I$\n",
    "\n"
   ]
  },
  {
   "cell_type": "markdown",
   "metadata": {},
   "source": [
    "## 4) Explotation des résultats\n",
    "\n",
    "Intructions Python pour tracer la caractéristique\n",
    "\n"
   ]
  },
  {
   "cell_type": "code",
   "execution_count": 4,
   "metadata": {},
   "outputs": [
    {
     "name": "stdout",
     "output_type": "stream",
     "text": [
      "Using matplotlib backend: agg\n",
      "Populating the interactive namespace from numpy and matplotlib\n"
     ]
    }
   ],
   "source": [
    "#Import nécessaires\n",
    "%pylab\n",
    "%matplotlib inline\n",
    "import matplotlib.pyplot as plt \n",
    "import re\n",
    "from scipy.stats import linregress\n"
   ]
  },
  {
   "cell_type": "code",
   "execution_count": 5,
   "metadata": {},
   "outputs": [],
   "source": [
    "# Pour lire les données stoquées\n",
    "# modifiez le code pour qu'il n'y ai pas\n",
    "# a mettre en forme votre fichier IUplot.text\n",
    "\n",
    "listfileN='IUplot.text'\n",
    "f=open(listfileN,'rt')\n",
    "I_val=[]\n",
    "U_val=[]\n",
    "pointList=[]\n",
    "lines=f.readlines()\n",
    "# On ne lis pas la première ligne dans laquelle il peut y avoir une entête\n",
    "for  i in lines[1:]:\n",
    "    (I,U)=i.split(\"\\t\") # Dans le cas où les valeurs sont séparés par une virgule remplacer \"\\t\" par \",\"\n",
    "    I_val.append(float(I))\n",
    "    U_val.append(float(U))"
   ]
  },
  {
   "cell_type": "markdown",
   "metadata": {},
   "source": [
    "Pour tracer le nuage de points correspondant à une Intensité en absisse, et une tension en ordonnée"
   ]
  },
  {
   "cell_type": "code",
   "execution_count": 6,
   "metadata": {},
   "outputs": [
    {
     "data": {
      "text/plain": [
       "<matplotlib.collections.PathCollection at 0x7fc0b65f10f0>"
      ]
     },
     "execution_count": 6,
     "metadata": {},
     "output_type": "execute_result"
    },
    {
     "data": {
      "image/png": "[encoded data removed]",
      "text/plain": [
       "<Figure size 432x288 with 1 Axes>"
      ]
     },
     "metadata": {
      "needs_background": "light"
     },
     "output_type": "display_data"
    }
   ],
   "source": [
    "# Une première visualisation des resultats fait apparaître une dispersion \n",
    "# liée à la quantification de Ev qui ne correspond pas à un triangle parfait\n",
    "# mais a un escalier avec des paliers bien déterminés.\n",
    "\n",
    "plt.scatter(I_val,U_val,color='red',marker='.')"
   ]
  },
  {
   "cell_type": "code",
   "execution_count": 8,
   "metadata": {},
   "outputs": [
    {
     "data": {
      "image/png": "[encoded data removed]",
      "text/plain": [
       "<Figure size 432x288 with 1 Axes>"
      ]
     },
     "metadata": {
      "needs_background": "light"
     },
     "output_type": "display_data"
    }
   ],
   "source": [
    "# Pour annoter la représentation graphique nous utilisons les données du programme\n",
    "# Le cadrillage permet de faire apparaître une proportionnalité.\n",
    "\n",
    "plt.scatter(I_val,U_val,color='red',marker='.')\n",
    "plt.xlabel(\"Intensité en dixième de miliampères\")\n",
    "plt.ylabel(\"Tension en V\")\n",
    "plt.title(\"Caractéristique Tension / Intensité \")\n",
    "plt.grid(True)"
   ]
  },
  {
   "cell_type": "code",
   "execution_count": 9,
   "metadata": {},
   "outputs": [],
   "source": [
    "# Pour obtennir mes caractéristiques de la droite qui modélise la loi d'Ohm\n",
    "regression = linregress(I_val,U_val)\n",
    "coefDirecteur = regression[0]\n",
    "ordonneeOrigine = regression[1]\n",
    "coeffCorrelation = regression[2]"
   ]
  },
  {
   "cell_type": "code",
   "execution_count": 10,
   "metadata": {},
   "outputs": [
    {
     "data": {
      "text/plain": [
       "10141.0"
      ]
     },
     "execution_count": 10,
     "metadata": {},
     "output_type": "execute_result"
    }
   ],
   "source": [
    "#La valeur de la résistance est donc en Ohm:\n",
    "round(coefDirecteur*10000)"
   ]
  },
  {
   "cell_type": "code",
   "execution_count": 11,
   "metadata": {},
   "outputs": [
    {
     "data": {
      "image/png": "[encoded data removed]",
      "text/plain": [
       "<Figure size 432x288 with 1 Axes>"
      ]
     },
     "metadata": {
      "needs_background": "light"
     },
     "output_type": "display_data"
    }
   ],
   "source": [
    "# Nous alons superposer les résulats de l'ajustement numérique\n",
    "# obtennu en simulant la cactéristique d'un résistor idéal\n",
    "# Pour tracer un segment de droite il faut que la pente corresponde\n",
    "# a une valeur que le modèle prédit comme étant la résistance\n",
    "\n",
    "plt.xlabel(\"Intensité en dixième de miliampères\")\n",
    "plt.ylabel(\"Tension en V\")\n",
    "plt.plot(I_val,U_val,color='red',marker='.')\n",
    "plt.plot([0,4],[0,4*coefDirecteur],color='black',linestyle='solid')\n",
    "plt.title(\"Vérification de la loi d'Ohm pour une résistance\")\n",
    "plt.show()"
   ]
  }
 ],
 "metadata": {
  "kernelspec": {
   "display_name": "Python 3",
   "language": "python",
   "name": "python3"
  },
  "language_info": {
   "codemirror_mode": {
    "name": "ipython",
    "version": 3
   },
   "file_extension": ".py",
   "mimetype": "text/x-python",
   "name": "python",
   "nbconvert_exporter": "python",
   "pygments_lexer": "ipython3",
   "version": "3.7.3"
  }
 },
 "nbformat": 4,
 "nbformat_minor": 2
}

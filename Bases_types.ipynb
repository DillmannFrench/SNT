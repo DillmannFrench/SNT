{
 "cells": [
  {
   "cell_type": "markdown",
   "metadata": {},
   "source": [
    "# Sciences Numériques et Technologiques\n",
    "\n",
    "Avant de commencer cet exercice, verifier que tout fonctionne comme prévu. D'abord nous allons \n",
    "**relancer le noyau** (dans la bare de menu, selectionner Kernel$\\rightarrow$Restart)ensuite **exécutez toutes les cellules** (dans la bare de menu, choisisez Cell$\\rightarrow$Run All)\n",
    "\n",
    "Ne remplisez que les bouts de code dans lesquels il est indiqué `YOUR CODE HERE` (votre code ici) ou bien \"YOUR ANSWER HERE\" votre réponse, n'oubliez pas de citer vos collaborateurs si vous avez travaillé à plusieurs. "
   ]
  },
  {
   "cell_type": "code",
   "execution_count": null,
   "metadata": {},
   "outputs": [],
   "source": [
    "# QUEL EST LE NOM QUE VOUS UTILISEZ POUR VOUS IDENTIFIER\n",
    "NAME = \" \"\n",
    "# AVEC QUI AVEZ VOUS TRAVAILLE\n",
    "COLLABORATEURS = \" \""
   ]
  },
  {
   "cell_type": "markdown",
   "metadata": {},
   "source": [
    "---"
   ]
  },
  {
   "cell_type": "markdown",
   "metadata": {},
   "source": [
    "# Bases de la programation Python"
   ]
  },
  {
   "cell_type": "markdown",
   "metadata": {
    "deletable": false,
    "editable": false,
    "nbgrader": {
     "cell_type": "markdown",
     "checksum": "3ceff26ddc8ba23fe81ad1cbadeb3fe6",
     "grade": false,
     "grade_id": "cell-d9c91930453f8414",
     "locked": true,
     "schema_version": 3,
     "solution": false,
     "task": false
    }
   },
   "source": [
    "## 1) Initialisation des variables et les types\n",
    "Nous commençon avec un type de variables qui correspondent aux nombres. Il y a deux familles  principales, les entiers appellés les `int` pour integer. Et les nombres à virgule, les irrationnels appellés `float` pour désigner les nombres dont la virgule peut être au début ou au milieu en fonction du nombre de chiffres significatifs que l'on souhaite avoir."
   ]
  },
  {
   "cell_type": "markdown",
   "metadata": {
    "deletable": false,
    "editable": false,
    "nbgrader": {
     "cell_type": "markdown",
     "checksum": "a0e8aaeee0e98aa2b2063d1f93dcdcc1",
     "grade": false,
     "grade_id": "cell-bd51d41fab889fa7",
     "locked": true,
     "schema_version": 3,
     "solution": false,
     "task": false
    }
   },
   "source": [
    "<font color=\"red\">On va tester des choses originales que la programation permet de faire, et qui sont un très semblables de ce que nous avons l'habitude de voire en mathematiques, cependant il y a des choses à apprendre. Ce que vous allez tester vous permettra de résoudre de nombreux problèmes en utilisant la méthode numérique</font>"
   ]
  },
  {
   "cell_type": "markdown",
   "metadata": {
    "deletable": false,
    "editable": false,
    "nbgrader": {
     "cell_type": "markdown",
     "checksum": "1fbebdc7b98096a5eca0bd794043d6a9",
     "grade": false,
     "grade_id": "cell-1d5bbbf0470e539f",
     "locked": true,
     "schema_version": 3,
     "solution": false,
     "task": false
    }
   },
   "source": [
    "Ces quelles opération classiques sur ces nombre qui ont été vues lors de la programation du microcontrôleur Arduino, vous permettent de comprendre que les nombres ne sont pas tout à fait manipulés de la même manière qu'en mathématiques.\n",
    "\n",
    "Ici les variables sont tour à tour des témoins d'une certaine valeur, ainsi que les récepteurs d'une nouvelle valeur.\n",
    "\n",
    "|Operation | Interpretation|\n",
    "|-----|----------|\n",
    "| somme de a et b |  a + b |\n",
    "| différence de a et b |  a - b |\n",
    "| produit de a et b |  a * b |\n",
    "| rapport de a par b |  a / b |\n",
    "\n",
    "\n",
    "Afin de mieux comprendre cela nous allons faire des opérations très simples."
   ]
  },
  {
   "cell_type": "code",
   "execution_count": null,
   "metadata": {},
   "outputs": [],
   "source": [
    "# On définit deux nouvelles variables comme des int\n",
    "a=5\n",
    "b=6\n",
    "# On veut faire la somme de ces variables et en avoir le résultats\n",
    "c=a+b\n",
    "c"
   ]
  },
  {
   "cell_type": "code",
   "execution_count": null,
   "metadata": {},
   "outputs": [],
   "source": [
    "# On peut egalement s'intéroger sur le type de la nouvelle variable c\n",
    "print(type(c))"
   ]
  },
  {
   "cell_type": "markdown",
   "metadata": {},
   "source": [
    "Changez le code ci dessus pour faire d'autre opérations, par exemple le produit de a par b"
   ]
  },
  {
   "cell_type": "code",
   "execution_count": null,
   "metadata": {},
   "outputs": [],
   "source": []
  },
  {
   "cell_type": "code",
   "execution_count": null,
   "metadata": {},
   "outputs": [],
   "source": [
    "# L'avantage des int de python c'est qu'ils sont de taille illimités\n",
    "a=999999999999999999999999999999999999999999999999999999999999\n",
    "print(a)\n",
    "print(type(a))\n",
    "b=a+1\n",
    "print(b) # on renvoie la valeur de b\n",
    "print(type(b)) # on explicite le format de b"
   ]
  },
  {
   "cell_type": "markdown",
   "metadata": {},
   "source": [
    "Déclarer la variable *a* pour qu'elle ait 60 fois la valeur 9. Cela veut dire qu'ici \n",
    "~~~ python\n",
    "b=a+1\n",
    "~~~\n",
    "Aura 60 zeros. "
   ]
  },
  {
   "cell_type": "code",
   "execution_count": null,
   "metadata": {},
   "outputs": [],
   "source": []
  },
  {
   "cell_type": "code",
   "execution_count": null,
   "metadata": {},
   "outputs": [],
   "source": [
    "# Solution\n",
    "# On commence par définir B comme un entier à 600 zeros\n",
    "b_char='1'+'0'*60 # On ecrit b comme une chaine de charactères.\n",
    "b_int=int(b_char) # cette fonction transforme b_char en un entier\n",
    "print(b_int)"
   ]
  },
  {
   "cell_type": "code",
   "execution_count": null,
   "metadata": {},
   "outputs": [],
   "source": [
    "a=b-1\n",
    "print(a)"
   ]
  },
  {
   "cell_type": "code",
   "execution_count": null,
   "metadata": {},
   "outputs": [],
   "source": [
    "# On verifie que la variable a est un entier qui compte 60 neufs\n",
    "A=str(a)\n",
    "len(A)"
   ]
  },
  {
   "cell_type": "markdown",
   "metadata": {
    "deletable": false,
    "editable": false,
    "nbgrader": {
     "cell_type": "markdown",
     "checksum": "471a594fd88e3ac6026790f82d2a4679",
     "grade": false,
     "grade_id": "cell-04b90fcf4b7a89e5",
     "locked": true,
     "schema_version": 3,
     "solution": false,
     "task": false
    }
   },
   "source": [
    "## 2) Choisir le type adapté\n",
    "\n",
    "On voit que ce n'est pas toujours très judicieux de travailler avec des chiffres qui ont un grand nombre de zeros. Essayons d'utiliser la notation scientifique, tout de suite le nombre considéré sera un nombre \"float\" c'est à dire un nombre semblable aux nombres irrationnels."
   ]
  },
  {
   "cell_type": "code",
   "execution_count": null,
   "metadata": {},
   "outputs": [],
   "source": [
    "a=1*1E60\n",
    "print(a)\n",
    "type(a)"
   ]
  },
  {
   "cell_type": "markdown",
   "metadata": {},
   "source": [
    "Il y a donc eu arrondi : quand un chiffre arrive à $10^{60}$ l'interpretteur python considère que c'est plus prudent de faire une approximation et de transformer les types `int` en types `float`\n",
    "\n",
    "Pouvez vous trouver la limite au dela le laquelle il n'y a plus de `int` qui vaille ?"
   ]
  },
  {
   "cell_type": "markdown",
   "metadata": {},
   "source": [
    "# Exercices Notés"
   ]
  },
  {
   "cell_type": "markdown",
   "metadata": {
    "deletable": false,
    "editable": false,
    "nbgrader": {
     "cell_type": "markdown",
     "checksum": "de11a4583279e5d628edbd6601e298fc",
     "grade": false,
     "grade_id": "cell-809237b6b2f6e3db",
     "locked": true,
     "schema_version": 3,
     "solution": false,
     "task": false
    }
   },
   "source": [
    "## 1) Rappel sur les fonctions en langage python\n",
    "\n",
    "Une fonction est un outil de programmation qui permet de transformer des données en entrée (appelés arguments, ou variables) par des résultats en sortie. Sa syntaxe est très formelle : \n",
    "\n",
    "~~~python\n",
    "def NOM_DE_LA_FONCTION (argument1):\n",
    "    # Ecriture d'une série de lignes de commandes \n",
    "    # qui doivent être alignées les unes par rapport aux autres\n",
    "    # Notez bien l'indentation, ne pas la respecter\n",
    "    # equivaut à une erreur de syntaxe !!!\n",
    "    return resultat\n",
    "~~~\n",
    "\n",
    "Notez bien les deux points `:` après la déclaration de l'argument (`argument1`), ainsi que l'indentation des commentaire (l'espace au début de la ligne où se trouve la commande)\n",
    "\n",
    "Enfin ne soyez pas surpris si votre fonction ne vous rend pas les résultats, c'est parce que vous avez oublié le `return`.\n",
    "\n",
    "~~~python\n",
    "    return\n",
    "~~~\n",
    "\n",
    "qui renvoie la 'production' de la fonction.\n"
   ]
  },
  {
   "cell_type": "code",
   "execution_count": null,
   "metadata": {
    "deletable": false,
    "editable": false,
    "nbgrader": {
     "cell_type": "code",
     "checksum": "9bf9638a2b43a23633944e3a35b1c626",
     "grade": false,
     "grade_id": "cell-96d3161927238885",
     "locked": true,
     "schema_version": 3,
     "solution": false,
     "task": false
    }
   },
   "outputs": [],
   "source": [
    "#Fonction ajoute une variable à une autre variable\n",
    "def décalage(Variable_a,Variable_b):\n",
    "    #Les commentaires en rouge sont essentielment utilisées quand on demande à savoir ce que fait cette fonction en utilisant ? NOM_DE_LA_FONCTION\n",
    "    \"\"\"\n",
    "    Cette fonction va prendre un argument Variable_a auquel il va soustraire Variable_b \n",
    "    Il va rendre directemenent la différence Variable_a-Variable_b\n",
    "    \"\"\"\n",
    "    return Variable_a-Variable_b"
   ]
  },
  {
   "cell_type": "code",
   "execution_count": null,
   "metadata": {},
   "outputs": [],
   "source": [
    "#Nous testons la fonction décalage\n",
    "décalage(293,273)"
   ]
  },
  {
   "cell_type": "code",
   "execution_count": null,
   "metadata": {},
   "outputs": [],
   "source": [
    "# La cellule suivante permet de exprimer \n",
    "# les informations qui sont en rouge au \n",
    "# début de la fonction\n",
    "\n",
    "? décalage"
   ]
  },
  {
   "cell_type": "markdown",
   "metadata": {
    "deletable": false,
    "editable": false,
    "nbgrader": {
     "cell_type": "markdown",
     "checksum": "ff099566ba29ec4a9f7b91bf36ea4348",
     "grade": false,
     "grade_id": "cell-1f7d9af0725ba0b1",
     "locked": true,
     "schema_version": 3,
     "solution": false,
     "task": false
    }
   },
   "source": [
    "## La fonction carré 5 points\n",
    "\n",
    "On considère une fonction `carré` qui multiplie la variable entrée par elle même et qui renvoie le résultat"
   ]
  },
  {
   "cell_type": "code",
   "execution_count": null,
   "metadata": {
    "deletable": false,
    "nbgrader": {
     "cell_type": "code",
     "checksum": "6be1574a9202b480857d152b0426950e",
     "grade": false,
     "grade_id": "fonction_carre",
     "locked": false,
     "schema_version": 3,
     "solution": true,
     "task": false
    }
   },
   "outputs": [],
   "source": [
    "def carré(a):\n",
    "    \"\"\"Cette fonction fait le carré d'une valeur entière a, \n",
    "    de telle sorte que le résultat retourné est a au carré\n",
    "    On notera bien que les caractères accentués sont permis\n",
    "    pour le nom des fonctions (selon la norme UTF-8)\n",
    "    Par contre les caractères spéciaux (!#%) sont à proscrire\n",
    "    \"\"\"\n",
    "    # YOUR CODE HERE\n",
    "    raise NotImplementedError()"
   ]
  },
  {
   "cell_type": "markdown",
   "metadata": {
    "deletable": false,
    "editable": false,
    "nbgrader": {
     "cell_type": "markdown",
     "checksum": "810948a0c6c88a1de5733f6bb5d7e0b4",
     "grade": false,
     "grade_id": "cell-a70cdeda6c0cd5cc",
     "locked": true,
     "schema_version": 3,
     "solution": false,
     "task": false
    }
   },
   "source": [
    "Pour $a=2$ votre fonction devrait renvoyer 4\n",
    "pour $a=100$ on s'attends à ce qu'elle retourne 10000"
   ]
  },
  {
   "cell_type": "code",
   "execution_count": null,
   "metadata": {
    "deletable": false,
    "editable": false,
    "nbgrader": {
     "cell_type": "code",
     "checksum": "64de8612f5b6f0732a830a1272f7656a",
     "grade": true,
     "grade_id": "fonction_carre_V",
     "locked": true,
     "points": 5,
     "schema_version": 3,
     "solution": false,
     "task": false
    }
   },
   "outputs": [],
   "source": [
    "\"\"\" Verifier que la fonction carre renvoie la sortie correcte pour plusieurs entrées\"\"\"\n",
    "assert carré(1) == 1\n",
    "assert carré(2) == 4\n",
    "assert carré(100) == 10000"
   ]
  },
  {
   "cell_type": "markdown",
   "metadata": {
    "deletable": false,
    "editable": false,
    "nbgrader": {
     "cell_type": "markdown",
     "checksum": "c79e3e829be6037ad195e565420282a5",
     "grade": false,
     "grade_id": "cell-6a55caec20fdde7b",
     "locked": true,
     "schema_version": 3,
     "solution": false,
     "task": false
    }
   },
   "source": [
    "## Une fonction qui convertit les degrès Celcius en Kelvin 6 points\n",
    "\n",
    "On sait que le 0 absolut (en K) est à -273°C on souhaite avoir une fonction`kelvin` qui convertisse les degrès Celcius en Kelvin, comment s'y prendre ? "
   ]
  },
  {
   "cell_type": "code",
   "execution_count": null,
   "metadata": {
    "deletable": false,
    "nbgrader": {
     "cell_type": "code",
     "checksum": "f9c47cad55f8a413885e4bafcc7230c1",
     "grade": false,
     "grade_id": "celcius",
     "locked": false,
     "schema_version": 3,
     "solution": true,
     "task": false
    }
   },
   "outputs": [],
   "source": [
    "def kelvin(temperature_celcius):\n",
    "    \"\"\" Cette fonction prend un nombre \n",
    "    et le transforme en un autre par \n",
    "    une opération mathématique \"\"\"\n",
    "    # YOUR CODE HERE\n",
    "    raise NotImplementedError()"
   ]
  },
  {
   "cell_type": "code",
   "execution_count": null,
   "metadata": {
    "deletable": false,
    "editable": false,
    "nbgrader": {
     "cell_type": "code",
     "checksum": "828257185388773544b8270d1c997633",
     "grade": true,
     "grade_id": "celcius_V",
     "locked": true,
     "points": 0,
     "schema_version": 3,
     "solution": false,
     "task": false
    }
   },
   "outputs": [],
   "source": [
    "\n",
    "assert kelvin(-273) == 0"
   ]
  },
  {
   "cell_type": "code",
   "execution_count": null,
   "metadata": {},
   "outputs": [],
   "source": []
  }
 ],
 "metadata": {
  "kernelspec": {
   "display_name": "Python 3",
   "language": "python",
   "name": "python3"
  },
  "language_info": {
   "codemirror_mode": {
    "name": "ipython",
    "version": 3
   },
   "file_extension": ".py",
   "mimetype": "text/x-python",
   "name": "python",
   "nbconvert_exporter": "python",
   "pygments_lexer": "ipython3",
   "version": "3.7.1"
  }
 },
 "nbformat": 4,
 "nbformat_minor": 2
}

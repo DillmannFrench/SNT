{
 "cells": [
  {
   "cell_type": "markdown",
   "metadata": {},
   "source": [
    "<img src=\"https://i.creativecommons.org/l/by-nc-nd/3.0/88x31.png\" alt=\"Drawing\" style=\"width: 150px;\"/> \n",
    "\n",
    "\n",
    "**Auteurs originaux** : Arnaud Legout et Thierry Parmentelat (auteurs du MOOC *Python 3 : des fondamentaux aux concepts avancés du langage* disponible sur la plateforme FUN).\n",
    "\n",
    "**Modifié et adapté par** : Baudouin Dillmann (08/09/2019)"
   ]
  },
  {
   "cell_type": "markdown",
   "metadata": {},
   "source": [
    "# Rôle de l'informatique et des nouvelles technologies de l'information"
   ]
  },
  {
   "cell_type": "markdown",
   "metadata": {},
   "source": [
    "L'informatique occupe une place de plus en plus importante dans nos vies quotidiennes, que ce soit dans son enseignement ou dans la recherche. En effet, du point de vue de notre accés à l'information, les **données** à traiter sont de plus en plus nombreuses et leur analyse requiert une forme de logique, que les ordinateurs et les langages de programmation peuvent très simplement implémenter et traiter. \n",
    "\n",
    "Qu'il s'agisse de physique, de sociologie, de marketing, ou de finances, la simulation numérique permet de résoudre des problèmes qui seraient partiellement ou totalement inaccessibles en calculant « à la main ».\n",
    "\n",
    "L'enseignement de l'informatique en tant que science (les anglosaxons parlent de _computer science_) se développe et l'apprentissage d'un langage de programmation est devenu un « passage obligé » dans l'enseignement dès l'entrée au Lycée.\n",
    "\n",
    "Dans l'état actuel des choses, le langage scientifique le plus répandu en France et dans les pays anglo-saxons est le langage [Python](https://www.python.org/). Son utilisation se développe dès la seconde et il sert, en particulier, de support à l'enseignement de l'informatique en classes préparatoires aux grandes écoles (CPGE) qui sont une voie d'admission à des métiers dans de nombreux domaines."
   ]
  },
  {
   "cell_type": "markdown",
   "metadata": {},
   "source": [
    "# L'informatique dans le cours de SNT à NDO"
   ]
  },
  {
   "cell_type": "markdown",
   "metadata": {},
   "source": [
    "Nous avons choisi, dans ce cours, de faire découvrir Python en ciblant quelques utilisations possibles de ce langage en Physique. Nous pensons néanmoins qu'il est important de mettre en évidence l'importance du recours à l'informatique pour développer des modèles qui seront vus ensuite en cours de Physique pendant les traveaux partiques par exemple. \n",
    "\n",
    "Alors comment va-t-on faire ? Mettons nous dans la peau d'un voyageur qui arriverait dans un pays dont il ne connaît pas la langue. Au début, il ne comprend rien. Il se débrouille, il fait des signes, il finit par identifier des mots ou des phrases qui reviennent sans cesse et dont il finit par _deviner_ le sens (en se trompant parfois). \n",
    "\n",
    "Ce voyageur sera pris en charge à son arrivée par un professeur qui parle les deux langues, qui prendra soin de te traduire _la plupart_ des mots de la langue étrangère (Python), qui expliquera un peu la grammaire (la syntaxe), qui expliquera les coutumes locales (les bonnes habitudes ou _best practice_) et qui fournira, au cas où, un dictionnaire (la documentation)."
   ]
  },
  {
   "cell_type": "markdown",
   "metadata": {},
   "source": [
    "# Jupyter et un portable"
   ]
  },
  {
   "cell_type": "markdown",
   "metadata": {},
   "source": [
    "Pour utiliser Python, il faut disposer au moins d'un petit ordinateur portable, voire d'une tablette avec un clavier, voire d'un smartphone. Nous désigneront sous le nom de \"portable\" dans ce cours, le terminal avec lequel l'élève accéde à l'ordinateur du professeur. \n",
    "\n",
    "Le choix de l'établissement est d'avoir un programme appellé [edupython](https://edupython.tuxfamily.org/) qui est installé sur les ordinateurs accéssibles dans les salles équipés. Malheureusement nous ne disposons pas d'ordinateurs pour tout le monde et il conviendra donc de s'équiper avec un terminal personnel disposant d'un clavier et d'un accés wifi.\n",
    "La solution idéale serait d'installer la distribution Python appelée [anaconda](https://www.anaconda.com/download/), mais cela impose d'avoir beaucoup de place disponible et donc un ordinateur qui n'est pas facile à transporter. Une autre solution, pour des utilisateurs experts, est [miniconda](https://docs.conda.io/en/latest/miniconda.html). Dans tous les cas nous allons travailler avec la version 3 (ou supérieure) de python et chaque élève sera tenu pour résponsable du matériel qu'il apportera au cours de SNT. En cas de perte, ou dégradation dudit matériel, l'enseignant et l'établissement ne peuvent en aucun cas être considérés comme légalement impliqués.\n",
    "\n",
    "On notera aussi que le fait d'installer un programme n'est pas nécessaire, et comme cela nécessite quelques connaissances cela peut aboutir à quelques difficultés techniques (compatibilité) que nous voulons absolument éviter. \n",
    "\n",
    "Aussi avons-nous avons choisi d'illustrer le recours au langage Python dans ce cours en utilisant [Jupyter](http://jupyter.org/). Très schématiquement, cela permet de modifier et d'exécuter des scripts Python, **directement dans le navigateur, sans aucune installation sur votre portable**. Cela nous a semblé beaucoup plus simple et motivant. Vous pouvez donc suivre le cours avec n'importe quel portable pourvu qu'il se connecte au réseau local qui sera accéssible pendant le cours."
   ]
  },
  {
   "cell_type": "markdown",
   "metadata": {},
   "source": [
    "# _Notebooks_"
   ]
  },
  {
   "cell_type": "markdown",
   "metadata": {},
   "source": [
    "Pour pouvoir utiliser Jupyter, il faut rédiger des documents « mixtes », contenant du texte et du code Python, que l'on appelle des _notebooks_. Ces lignes font partie d'un _notebook_ où l'on entre les définitions et les grand concepts qui seront abordés en cours.\n",
    "\n",
    "Dans la suite de ce _notebook_, on va utiliser du code Python. Ce code est uniquement destiné à valider le fonctionnement des notebooks et il est très simple."
   ]
  },
  {
   "cell_type": "markdown",
   "metadata": {},
   "source": [
    "## Avantages des _notebooks_"
   ]
  },
  {
   "cell_type": "markdown",
   "metadata": {},
   "source": [
    "Ce support permet un format plus lisible et la première chose à faire sera de renomer le _Notebook_ donné en cours pour le personnaliser, la manière de garder une trace ecrite en pensant que l'on peut la partager avec le reste de la classe. Pour effectuer cette opération le plus simple est d'aller dans l'onglet _file_ puis de choisir _Save as_ et enfin de sauvegarder le cours sous forme : **TITRE_DU_COURS_(DATE)-NOM**, on observe que le nom d'un fichier ne comporte pas d'espaces (se sont des caractères spéciaux) il doit impérativement contennir le nom de famille, si celui-ci est composé on remplace les espaces par des signes \"_\". Le Titre est donné par le professeur au début de chaque cours. Celui de ce cours est \"Methodologie\" là encore pas d'accents car se sont des caractères spéciaux. Entre parenthèses on va ecrire la date en suivant le format français \"JJMMAAAA\", pour deux caractères pour le jour, deux caractères pour le mois et quatre caractères pour l'année.\n",
    "Il est très important d'être rigoureux en informatique, autrement on peut vite faire de gros dégats."
   ]
  },
  {
   "cell_type": "markdown",
   "metadata": {},
   "source": [
    "Une partie de la note de chaque examen portera sur la rigueur avec laquelle on à tennu compte de ces consignes. Un élève dont le nom de famille est trop long peut demander à le raccourcir, mais il gardera le même raccourci tout au long de l'année."
   ]
  },
  {
   "cell_type": "markdown",
   "metadata": {},
   "source": [
    "J'attire votre attention sur le fait que **les fragments de code peuvent être testés et modifiés** (la page qui s'affiche dans le navigateur n'est pas une page statique : elle est dite _dynamique_). Ainsi il est facile d'essayer des variantes autour du _notebook_ original.\n",
    "\n",
    "Notez bien également que le code Python est interprété **sur une machine distante** (donc pas sur votre portable), ce qui permet de faire des premiers pas avant même d'avoir procédé à l'installation de Python sur l'ordinateur personnel (c'est tout l'intérêt de la chose)."
   ]
  },
  {
   "cell_type": "markdown",
   "metadata": {},
   "source": [
    "## Comment utiliser les _notebooks_"
   ]
  },
  {
   "cell_type": "markdown",
   "metadata": {},
   "source": [
    "En haut du _notebook_, on peut voire une barre, contenant&nbsp;:\n",
    "* un titre pour le _notebook_, avec une date entre parenthèses, si une version antérieure doit être consérvée on peut ajouter \"_V1\" par exemple à la date ;\n",
    "* une barre de menus avec les entrées, nous allons nous concentrer sur les entrés du menu qui sont appellées&nbsp;:`File`, `Insert`, `Cell`, `Kernel`;\n",
    "* une barre de boutons qui sont des raccourcis vers certains menus fréquemment utilisés. Si tu laisses ta souris au dessus d'un bouton, un petit texte apparaît, indiquant à quelle fonction correspond ce bouton, mais cette aide est souvent donnée en anglais qui est la langue de la pluspart des programmeurs.\n",
    "\n",
    "Un _notebook_ est constitué d'une suite de cellules, soit textuelles (Markdown), soit contenant du code (Code). Les cellules de code sont facilement reconnaissables, elles sont précédées de `In [ ]:`. La cellule qui suit celle que tu es en train de lire est une cellule de code.\n",
    "\n",
    "Pour commencer, sélectionne la cellule de code ci-dessous avec ta souris et appuie dans la barre de boutons sur celui en forme de flèche triangulaire vers la droite (Run)."
   ]
  },
  {
   "cell_type": "code",
   "execution_count": 14,
   "metadata": {},
   "outputs": [
    {
     "data": {
      "text/plain": [
       "600"
      ]
     },
     "execution_count": 14,
     "metadata": {},
     "output_type": "execute_result"
    }
   ],
   "source": [
    "20 * 30"
   ]
  },
  {
   "cell_type": "markdown",
   "metadata": {},
   "source": [
    "En utilisant la fleche qui symbolise la lecture, la cellule est « exécutée » (on dira plus volontiers « évaluée »), et on passe à la cellule suivante.\n",
    "\n",
    "Alternativement on peux simplement taper au clavier ***Shift+Enter***, ou, selon les claviers, ***Maj-Entrée***, pour obtenir le même effet (<kbd>SHIFT</kbd>+<kbd>ENTER</kbd> ou <kbd>MAJ</kbd>+<kbd>ENTRÉE</kbd>). D'une manière générale, il est important d'apprendre et d'utiliser les raccourcis clavier, cela fera gagner beaucoup de temps par la suite. Et il va de soi que les portables devront avoir un clavier reconnu pour permetre la saisie des notes de cours."
   ]
  },
  {
   "cell_type": "markdown",
   "metadata": {},
   "source": [
    "\n",
    "La façon habituelle d'*exécuter* l'ensemble du notebook consiste à partir de la première cellule, et à taper  <kbd>SHIFT</kbd>+<kbd>ENTER</kbd> (ou <kbd>MAJ</kbd>+<kbd>ENTRÉE</kbd>) jusqu'au bout du notebook, en n'allant pas trop vite, c'est-à-dire en attendant le résultat de l'exécution de chaque cellule."
   ]
  },
  {
   "cell_type": "markdown",
   "metadata": {},
   "source": [
    "Lorsqu'une cellule de code a été évaluée, Jupyter ajoute sous la cellule `In` une cellule `Out` qui donne le résultat du fragment Python, soit ci-dessus 600.\n",
    "\n",
    "Jupyter ajoute également un nombre entre les crochets pour afficher, par exemple ci-dessus, `In [1]:`. Ce nombre te permet de retrouver l'ordre dans lequel les cellules ont été évaluées."
   ]
  },
  {
   "cell_type": "markdown",
   "metadata": {},
   "source": [
    "On peux naturellement modifier ces cellules de code pour faire des essais. Ainsi, il est possible de se servir du modèle ci-dessous pour calculer 10 à la puissance 5"
   ]
  },
  {
   "cell_type": "code",
   "execution_count": 16,
   "metadata": {},
   "outputs": [
    {
     "data": {
      "text/plain": [
       "100000.0"
      ]
     },
     "execution_count": 16,
     "metadata": {},
     "output_type": "execute_result"
    }
   ],
   "source": [
    "# math.pow (pour power) calcule la puissance\n",
    "import math\n",
    "math.pow(10,5)"
   ]
  },
  {
   "cell_type": "markdown",
   "metadata": {},
   "source": [
    "En fait, comme sur une calculatrice cette ecriture est semblable (mais plus sophistiquée) à celle la&nbsp;:"
   ]
  },
  {
   "cell_type": "code",
   "execution_count": 18,
   "metadata": {},
   "outputs": [
    {
     "data": {
      "text/plain": [
       "100000.0"
      ]
     },
     "execution_count": 18,
     "metadata": {},
     "output_type": "execute_result"
    }
   ],
   "source": [
    "1E5"
   ]
  },
  {
   "cell_type": "markdown",
   "metadata": {},
   "source": [
    "On remarque d'emblée que python aime bien donner des chifres avec une précision décimale. Il faudra en tenir compte dans certaines opérations simples comme les rapports."
   ]
  },
  {
   "cell_type": "markdown",
   "metadata": {},
   "source": [
    "Il peut être parfois utile d'évaluer tout le _notebook_ en une seule fois en utilisant le menu *Cell -> Run All*."
   ]
  },
  {
   "cell_type": "markdown",
   "metadata": {},
   "source": [
    "## Attention à bien évaluer les cellules dans l'ordre"
   ]
  },
  {
   "cell_type": "markdown",
   "metadata": {},
   "source": [
    "Il est important que les cellules de code soient évaluées dans le bon ordre. Si on ne respecte pas l'ordre dans lequel les cellules de code sont présentées, le résultat peut être inattendu&nbsp;: C'est comme mettre la charue avant les bœufs\n",
    "\n",
    "En fait, évaluer un programme sous forme de notebook revient à le découper en petits fragments. Si on exécute ces fragments dans le désordre, on obtient naturellement un programme différent."
   ]
  },
  {
   "cell_type": "markdown",
   "metadata": {},
   "source": [
    "On le voit sur cet exemple :"
   ]
  },
  {
   "cell_type": "code",
   "execution_count": 1,
   "metadata": {},
   "outputs": [],
   "source": [
    "message = \"Il faut faire attention à l'ordre dans lequel on évalue les notebooks\""
   ]
  },
  {
   "cell_type": "code",
   "execution_count": 2,
   "metadata": {},
   "outputs": [
    {
     "name": "stdout",
     "output_type": "stream",
     "text": [
      "Il faut faire attention à l'ordre dans lequel on évalue les notebooks\n"
     ]
    }
   ],
   "source": [
    "print(message)"
   ]
  },
  {
   "cell_type": "markdown",
   "metadata": {},
   "source": [
    "Si un peu plus loin dans le notebook on fait par exemple :"
   ]
  },
  {
   "cell_type": "code",
   "execution_count": 6,
   "metadata": {},
   "outputs": [],
   "source": [
    "# ceci a pour effet d'effacer la variable 'message'\n",
    "del message"
   ]
  },
  {
   "cell_type": "markdown",
   "metadata": {},
   "source": [
    "qui rend le symbole `message` indéfini, alors, bien sûr, tu ne peux plus évaluer la cellule qui fait `print` puisque la variable `message` n'est plus connue de l'interpréteur."
   ]
  },
  {
   "cell_type": "markdown",
   "metadata": {},
   "source": [
    "## Réinitialiser l'interpréteur"
   ]
  },
  {
   "cell_type": "markdown",
   "metadata": {},
   "source": [
    "Si trop de modifications sont faites, ou si le fil de ce qui doit être évalué est perdu, il peut être utile de redémarrer l'interpréteur. Le menu *Kernel → Restart* permet de faire cela."
   ]
  },
  {
   "cell_type": "markdown",
   "metadata": {},
   "source": [
    "Le menu *Kernel → Interrupt* peut être quant à lui utilisé si le fragment prend trop longtemps à s'exécuter (par exemple quand on écrit une boucle dont la logique est cassée et qui ne termine pas). Nous verons comment éviter ses erreurs et dans la mesure ou "
   ]
  },
  {
   "cell_type": "markdown",
   "metadata": {},
   "source": [
    "## Il faut travailler sur sa copie personnelle"
   ]
  },
  {
   "cell_type": "markdown",
   "metadata": {},
   "source": [
    "Un des avantages principaux des _notebooks_ est de permettre de modifier le code écrit par le professeur et de voir, par soi-même, comment se comporte le code modifié.\n",
    "\n",
    "Pour cette raison, chaque participant dispose de sa **propre copie** de chaque _notebook_. Dans la première séance nous verrons comment ces copies apparaissent au fûr et a mesure. Apporter toutes les modifications, souhaitables aux notebooks sans affecter les autres étudiants, est une attitude qui sera très bien valorisée par le professeur."
   ]
  },
  {
   "cell_type": "markdown",
   "metadata": {},
   "source": [
    "## Revenir à la version du cours"
   ]
  },
  {
   "cell_type": "markdown",
   "metadata": {},
   "source": [
    "On peut toujours faire le point avant de changer la version « du cours » grâce au menu\n",
    "*File → Save and Checkpoint*."
   ]
  },
  {
   "cell_type": "markdown",
   "metadata": {},
   "source": [
    "Ensuite *File → Revert to Checkpoint* permet de retrouver la version qui à été mise de côté.\n",
    "Attention, avec cette fonction, on restaures **tout le _notebook_** et donc **on perds tes modifications que tu as faites sur ce _notebook_**."
   ]
  },
  {
   "cell_type": "markdown",
   "metadata": {},
   "source": [
    "## Télécharger au format Python"
   ]
  },
  {
   "cell_type": "markdown",
   "metadata": {},
   "source": [
    "On peux télécharger un _notebook_ au format Python sur l'ordinateur grâce au menu\n",
    "*File → Download as → Python*"
   ]
  },
  {
   "cell_type": "markdown",
   "metadata": {},
   "source": [
    "Les cellules de texte sont préservées dans le résultat sous forme de commentaires Python."
   ]
  },
  {
   "cell_type": "markdown",
   "metadata": {},
   "source": [
    "## Partager un _notebook_ en lecture seule"
   ]
  },
  {
   "cell_type": "markdown",
   "metadata": {},
   "source": [
    "Enfin, avec le menu *File → Share static version*, on peux publier une version en lecture seule de ton _notebook_ ; tu obtiens une URL que tu peux publier par exemple pour demander de l'aide sur le forum. Ainsi, les autres participants peuvent accéder en lecture seule à ton code."
   ]
  },
  {
   "cell_type": "markdown",
   "metadata": {},
   "source": [
    "## Ajouter des cellules"
   ]
  },
  {
   "cell_type": "markdown",
   "metadata": {},
   "source": [
    "On peux ajouter une cellule n'importe où dans le document avec le bouton **+** de la barre de boutons.\n",
    "\n",
    "Lorsque l'on arrive à la fin du _notebook_, une nouvelle cellule est créée chaque fois que l'on évalue la dernière cellule. De cette façon, on dispose d'un brouillon pour ses propres essais."
   ]
  },
  {
   "cell_type": "markdown",
   "metadata": {},
   "source": [
    "# En cas de problème..."
   ]
  },
  {
   "cell_type": "markdown",
   "metadata": {},
   "source": [
    "Encore une chose... Si tout ne se passe pas comme prévu ou si tu rencontres des difficultés, n'hésite pas à en parler au professeur, voire même à poser la question sur un forum\n",
    "\n",
    "Attention néanmoins... Pour que les participants du forum (et à plus forte raison le professeur) puissent t'aider à résoudre ton problème, il faut qu'il soit décrit correctement, d'abord avec des mots (on évite des messages du style « Ça marche pas. ») et éventuellement avec des images (parfois, cela vaut mieux qu'un long discours). \n",
    "\n",
    "Aussi, il faut être le plus précis possible dans la description de ton problème et à joindre une ou plusieures captures d'écran qui te permette de l'illustrer."
   ]
  },
  {
   "cell_type": "markdown",
   "metadata": {},
   "source": [
    "## Un exercice interessant"
   ]
  },
  {
   "cell_type": "code",
   "execution_count": 7,
   "metadata": {},
   "outputs": [
    {
     "name": "stdout",
     "output_type": "stream",
     "text": [
      "x au cube = -522413599036979150280966144853653247149764362110424 \n",
      "y au cube = 520412211582497361738652718463552780369306583065875 \n",
      "z au cube = 2001387454481788542313426390100466780457779044591 \n"
     ]
    }
   ],
   "source": [
    "x=-80538738812075974\n",
    "y=80435758145817515\n",
    "z=12602123297335631\n",
    "\n",
    "x3=pow(x,3)\n",
    "y3=pow(y,3)\n",
    "z3=pow(z,3)\n",
    "\n",
    "print(\"x au cube = {} \".format(x3))\n",
    "print(\"y au cube = {} \".format(y3))\n",
    "print(\"z au cube = {} \".format(z3))\n"
   ]
  },
  {
   "cell_type": "code",
   "execution_count": 8,
   "metadata": {},
   "outputs": [
    {
     "data": {
      "text/plain": [
       "42"
      ]
     },
     "execution_count": 8,
     "metadata": {},
     "output_type": "execute_result"
    }
   ],
   "source": [
    "x3+y3+z3"
   ]
  }
 ],
 "metadata": {
  "kernelspec": {
   "display_name": "Python 3",
   "language": "python",
   "name": "python3"
  },
  "language_info": {
   "codemirror_mode": {
    "name": "ipython",
    "version": 3
   },
   "file_extension": ".py",
   "mimetype": "text/x-python",
   "name": "python",
   "nbconvert_exporter": "python",
   "pygments_lexer": "ipython3",
   "version": "3.7.1"
  },
  "livereveal": {
   "auto_select": "code",
   "auto_select_fragment": true,
   "autolaunch": false,
   "backimage": "media/nologo.png",
   "height": "100%",
   "slideNumber": "c",
   "start_slideshow_at": "selected",
   "theme": "simple",
   "transition": "fade",
   "width": "100%"
  },
  "notebookname": "Utiliser les notebooks",
  "version": "1.0"
 },
 "nbformat": 4,
 "nbformat_minor": 1
}

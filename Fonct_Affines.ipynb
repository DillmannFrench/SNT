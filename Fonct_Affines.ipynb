{
 "cells": [
  {
   "cell_type": "markdown",
   "metadata": {},
   "source": [
    "# Sciences Numériques et Technologiques\n",
    "\n",
    "Avant de commencer cet exercice, verifier que tout fonctionne comme prévu. D'abord nous allons \n",
    "**relancer le noyau** (dans la bare de menu, selectionner Kernel$\\rightarrow$Restart)ensuite **exécutez toutes les cellules** (dans la bare de menu, choisisez Cell$\\rightarrow$Run All)\n",
    "\n",
    "Ne remplisez que les bouts de code dans lesquels il est indiqué \"YOUR CODE HERE\"  (votre code ici) ou bien \"YOUR ANSWER HERE\" votre réponse, n'oubliez pas de citer vos collaborateurs. En aucun cas vous ne pouvez rendre un même fichier pour deux personnes, l'algorithme assimilerait cela à de la fraude. "
   ]
  },
  {
   "cell_type": "code",
   "execution_count": null,
   "metadata": {},
   "outputs": [],
   "source": [
    "# QUEL EST LE NOM QUE VOUS UTILISEZ POUR VOUS IDENTIFIER\n",
    "NAME = \" \"\n",
    "# AVEC QUI AVEZ VOUS TRAVAILLE\n",
    "COLLABORATEURS = \" \""
   ]
  },
  {
   "cell_type": "markdown",
   "metadata": {},
   "source": [
    "---"
   ]
  },
  {
   "cell_type": "markdown",
   "metadata": {
    "deletable": false,
    "editable": false,
    "nbgrader": {
     "cell_type": "markdown",
     "checksum": "73545b7ae91e8f00db2133be4f4c6d34",
     "grade": false,
     "grade_id": "cell-8417934cc77d37fa",
     "locked": true,
     "schema_version": 3,
     "solution": false,
     "task": false
    }
   },
   "source": [
    "Les exercices sont de difficultés progressive il est donc conseillé de les faire dans l'ordre, de telle sorte que les fonctions programmées servent à réaliser celles de l'exercice suivant."
   ]
  },
  {
   "cell_type": "markdown",
   "metadata": {
    "deletable": false,
    "editable": false,
    "nbgrader": {
     "cell_type": "markdown",
     "checksum": "6c59a62d51e81b7e20d2a8437e548357",
     "grade": false,
     "grade_id": "cell-e189cfb4b77aed54",
     "locked": true,
     "schema_version": 3,
     "solution": false,
     "task": false
    }
   },
   "source": [
    "# Fonctions affines et Fonction Racine\n",
    "\n",
    "Les fonctions affines linéaires se rencontrent toutes en classe de troisième et de seconde. \n",
    "Elles se définissent par la fonction : \n",
    "\n",
    "$$ f(x)=ax+b $$ \n",
    "\n",
    "où $a$ est le coefficient directeur et $b$ l'ordonnée à l'origine. *On rappelle que lorsqu'il n'y a pas d'espace entre la variable $x$ et le coefficient directeur $a$ cela veut dire qu'ils sont multipliés l'un par l'autre.*\n",
    "\n",
    "La fonction racine est l'inverse de la fonction carré de telle sorte que x étant positif :\n",
    "\n",
    "$$ g(x)=\\sqrt{x} \\Longleftrightarrow g^2(x)=x $$ "
   ]
  },
  {
   "cell_type": "markdown",
   "metadata": {
    "deletable": false,
    "editable": false,
    "nbgrader": {
     "cell_type": "markdown",
     "checksum": "2bc425d253e5c5dbb3d4b5851dfa9f6d",
     "grade": false,
     "grade_id": "cell-4423208295e85c79",
     "locked": true,
     "schema_version": 3,
     "solution": false,
     "task": false
    }
   },
   "source": [
    "## 1) Première définition d'une fonction affine de coefficients connus\n",
    "\n",
    "### 1.1) Définition d'une première fonction\n",
    "\n",
    "On s'intéresse à la fonction suivante : $$f_1(x)=4x+2$$ "
   ]
  },
  {
   "cell_type": "code",
   "execution_count": null,
   "metadata": {
    "deletable": false,
    "nbgrader": {
     "cell_type": "code",
     "checksum": "cfc8ce26bc5821a47fc817ec213b8e68",
     "grade": false,
     "grade_id": "cell-9be938a097284bfc",
     "locked": false,
     "schema_version": 3,
     "solution": true,
     "task": false
    }
   },
   "outputs": [],
   "source": [
    "def f_4_2 (x):\n",
    "    \"\"\" \n",
    "    La fonction f_4_2 est une fonction de coefficient directeur '4' \n",
    "    et d'ordonnée à l'origine '2'\n",
    "    \"\"\"\n",
    "    # Ecrivez le resultat renvoyé (return) par \n",
    "    # La fonction f=4x+2\n",
    "    # YOUR CODE HERE\n",
    "    raise NotImplementedError()"
   ]
  },
  {
   "cell_type": "code",
   "execution_count": null,
   "metadata": {},
   "outputs": [],
   "source": [
    "# Testez ici votre fonction"
   ]
  },
  {
   "cell_type": "code",
   "execution_count": null,
   "metadata": {
    "deletable": false,
    "editable": false,
    "nbgrader": {
     "cell_type": "code",
     "checksum": "d4eac06973ad811ee5f5dc889349d782",
     "grade": true,
     "grade_id": "cell-820af13514cb7df2",
     "locked": true,
     "points": 2,
     "schema_version": 3,
     "solution": false,
     "task": false
    }
   },
   "outputs": [],
   "source": [
    "\"\"\" Tests de validation automatique \"\"\"\n",
    "assert f_4_2(0) == 2\n",
    "assert f_4_2(1)-2 == 4\n"
   ]
  },
  {
   "cell_type": "markdown",
   "metadata": {
    "deletable": false,
    "editable": false,
    "nbgrader": {
     "cell_type": "markdown",
     "checksum": "57fc6d0622e50269429017b324019664",
     "grade": false,
     "grade_id": "cell-980566ebf41c01a5",
     "locked": true,
     "schema_version": 3,
     "solution": false,
     "task": false
    }
   },
   "source": [
    "### 1.2) Définition d'une deuxième fonction\n",
    "\n",
    "Maintenant on étudie la fonction : $$ f_2(x) = -5x + 10 $$ on précise que $x$ est une variable qui peut prendre n'importe quelle valeur de l'ensemble des nombre réels. Il conviendra de s'assurer qu'un utilisateur qui entrerait une valeur de $x$ comme :\n",
    "~~~ python\n",
    "x='3.333'\n",
    "~~~\n",
    "ne fasse pas bloquer la fonction.\n"
   ]
  },
  {
   "cell_type": "code",
   "execution_count": null,
   "metadata": {
    "deletable": false,
    "nbgrader": {
     "cell_type": "code",
     "checksum": "4792c3ade376664713724623ebe10bfe",
     "grade": false,
     "grade_id": "cell-ed6d1ddad28d8d6c",
     "locked": false,
     "schema_version": 3,
     "solution": true,
     "task": false
    }
   },
   "outputs": [],
   "source": [
    "def f_moins5_dix (x):\n",
    "    \"\"\" \n",
    "    La fonction f_moins5_dix prends des valeurs de type float \n",
    "    et renvoie également des nombre flotants\n",
    "    \"\"\"\n",
    "    # YOUR CODE HERE\n",
    "    raise NotImplementedError()\n"
   ]
  },
  {
   "cell_type": "code",
   "execution_count": null,
   "metadata": {},
   "outputs": [],
   "source": [
    "# Testez ici votre fonction"
   ]
  },
  {
   "cell_type": "code",
   "execution_count": null,
   "metadata": {
    "deletable": false,
    "editable": false,
    "nbgrader": {
     "cell_type": "code",
     "checksum": "76dca0478c3340bd9c6c74e454ec368b",
     "grade": true,
     "grade_id": "cell-ee7825a4b8425fc1",
     "locked": true,
     "points": 2,
     "schema_version": 3,
     "solution": false,
     "task": false
    }
   },
   "outputs": [],
   "source": [
    "\"\"\" Verifier que la fonction renvoie bien des nombres réels \"\"\"\n",
    "assert f_moins5_dix('3') == -5.0\n",
    "assert f_moins5_dix('3.3') == -6.5\n",
    "assert f_moins5_dix('3.33') == -6.649999999999999\n"
   ]
  },
  {
   "cell_type": "code",
   "execution_count": null,
   "metadata": {},
   "outputs": [],
   "source": []
  },
  {
   "cell_type": "markdown",
   "metadata": {
    "deletable": false,
    "editable": false,
    "nbgrader": {
     "cell_type": "markdown",
     "checksum": "c8c20dc30756132891952b2caaf37c6a",
     "grade": false,
     "grade_id": "cell-4319a2521a1bcc27",
     "locked": true,
     "schema_version": 3,
     "solution": false,
     "task": false
    }
   },
   "source": [
    "### 1.3) Définition d'une troisième fonction\n",
    "\n",
    "Maintenant on étudie la fonction : \n",
    "\n",
    "$$ f_3(x) = -x - 3 $$\n",
    "\n",
    "on précise que $x$ est une variable qui peut prendre n'importe quelle valeur de l'ensemble des nombre réels. Il conviendra de s'assurer que le nom de la fonction est bien défini comme le requiert l'usage des fonctions dans python :\n",
    "~~~ python\n",
    "def f_moins1_moins3 (x) :\n",
    "~~~\n",
    "Attention : \n",
    "- Le choix de tout autre nom peut faire bloquer la procédure de test automatique.\n",
    "- Le retrait ou indentation d'un bloc est indispensable à la bonne syntaxe en python"
   ]
  },
  {
   "cell_type": "code",
   "execution_count": null,
   "metadata": {
    "deletable": false,
    "nbgrader": {
     "cell_type": "code",
     "checksum": "bf8a55c2fd27da00682aad8a3259920e",
     "grade": false,
     "grade_id": "cell-4ff6b4c4fed1abc2",
     "locked": false,
     "schema_version": 3,
     "solution": true,
     "task": false
    }
   },
   "outputs": [],
   "source": [
    "# Entréz votre code ci dessous pour définir une fonction comme dans les cas précédents : \n",
    "\n",
    "# YOUR CODE HERE\n",
    "raise NotImplementedError()"
   ]
  },
  {
   "cell_type": "code",
   "execution_count": null,
   "metadata": {},
   "outputs": [],
   "source": [
    "# Testez ici votre fonction :\n"
   ]
  },
  {
   "cell_type": "code",
   "execution_count": null,
   "metadata": {
    "deletable": false,
    "editable": false,
    "nbgrader": {
     "cell_type": "code",
     "checksum": "713fc3b4fdf0c1a0deaebabe2870708e",
     "grade": true,
     "grade_id": "cell-d9f65f404c87ac49",
     "locked": true,
     "points": 3,
     "schema_version": 3,
     "solution": false,
     "task": false
    }
   },
   "outputs": [],
   "source": [
    "\"\"\" Verifier que la fonction renvoie bien des nombres réels \"\"\"\n",
    "assert f_moins1_moins3 (10) == -13\n",
    "assert f_moins1_moins3 (0) == -3\n"
   ]
  },
  {
   "cell_type": "markdown",
   "metadata": {},
   "source": [
    "## 2) Propriétes des fonctions affines\n",
    "\n",
    "### 2.1) Retrouver la pente de la fonction\n",
    "\n",
    "On veut maintenant retrouver la valeur de la pente d'une fonction affine quelconque"
   ]
  },
  {
   "cell_type": "code",
   "execution_count": null,
   "metadata": {
    "deletable": false,
    "nbgrader": {
     "cell_type": "code",
     "checksum": "224811a096f02c98789344ba25d29477",
     "grade": false,
     "grade_id": "cell-1cf57685a5923bfa",
     "locked": false,
     "schema_version": 3,
     "solution": true,
     "task": false
    }
   },
   "outputs": [],
   "source": [
    "def pente (fonction_affine):\n",
    "    \"\"\"\n",
    "    Cette fonction a pour variable une fonction affine\n",
    "    elle doit retrouver le coefficient directeur 'a' d'une\n",
    "    telle fonction \n",
    "    \"\"\"\n",
    "    # Ecrivez le resultat renvoyé (return) \n",
    "    \n",
    "    # YOUR CODE HERE\n",
    "    raise NotImplementedError()"
   ]
  },
  {
   "cell_type": "code",
   "execution_count": null,
   "metadata": {},
   "outputs": [],
   "source": [
    "# Testez ici votre fonction :"
   ]
  },
  {
   "cell_type": "code",
   "execution_count": null,
   "metadata": {
    "deletable": false,
    "editable": false,
    "nbgrader": {
     "cell_type": "code",
     "checksum": "8522ecd6dde7183d6b24eae7c3bd19d3",
     "grade": true,
     "grade_id": "cell-8b3fd433cfee9913",
     "locked": true,
     "points": 3,
     "schema_version": 3,
     "solution": false,
     "task": false
    }
   },
   "outputs": [],
   "source": [
    "assert pente (f_4_2) == 4"
   ]
  },
  {
   "cell_type": "markdown",
   "metadata": {},
   "source": [
    "### 2.2)  Abscisse de changement de signe de la fonction\n",
    "\n",
    "On sait qu'une fonction est croissante si $a>0$ , décroissante si $a<0$.\n",
    "On vous demande de programmer une fonction qui calcule l'abscisse $x_0$ où la fonction change de signe."
   ]
  },
  {
   "cell_type": "code",
   "execution_count": null,
   "metadata": {
    "deletable": false,
    "nbgrader": {
     "cell_type": "code",
     "checksum": "aa0f033164876ddb7e7ef14a0b2652b4",
     "grade": false,
     "grade_id": "cell-aff20db5c083852b",
     "locked": false,
     "schema_version": 3,
     "solution": true,
     "task": false
    }
   },
   "outputs": [],
   "source": [
    "def changement_signe (fonction_affine):\n",
    "    \"\"\"\n",
    "    Cette fonction a pour variable une fonction affine\n",
    "    elle doit retrouver l'abscisse x où il y a changement du signe\n",
    "    d'une telle fonction \n",
    "    \"\"\"\n",
    "    # Ecrivez le resultat renvoyé (return) \n",
    "    \n",
    "    # YOUR CODE HERE\n",
    "    raise NotImplementedError()"
   ]
  },
  {
   "cell_type": "code",
   "execution_count": null,
   "metadata": {},
   "outputs": [],
   "source": [
    "# Testez ici votre fonction"
   ]
  },
  {
   "cell_type": "code",
   "execution_count": null,
   "metadata": {
    "deletable": false,
    "editable": false,
    "nbgrader": {
     "cell_type": "code",
     "checksum": "7e9be6ff278736c74677991766a5a9fb",
     "grade": true,
     "grade_id": "cell-d7fb672becf4b629",
     "locked": true,
     "points": 3,
     "schema_version": 3,
     "solution": false,
     "task": false
    }
   },
   "outputs": [],
   "source": [
    "\"\"\" Tests de validation automatique \"\"\"\n",
    "assert changement_signe (f_4_2) == -0.5"
   ]
  },
  {
   "cell_type": "markdown",
   "metadata": {
    "deletable": false,
    "editable": false,
    "nbgrader": {
     "cell_type": "markdown",
     "checksum": "2d9feb57983a31737095bcf812d42afd",
     "grade": false,
     "grade_id": "cell-9f7dd9a78d07884a",
     "locked": true,
     "schema_version": 3,
     "solution": false,
     "task": false
    }
   },
   "source": [
    "## 3) D'autres fonctions : la racine carrée\n",
    "\n",
    "Une possibilité de python est d'importer des fonctions d'une bibliothèque (librairie) de fonctions déjà existantes. Considéront la fonction $g$ suivante :\n",
    "\n",
    "$$ g(x) = \\sqrt{x} $$\n",
    "\n",
    "Cette fonction est valable pour tout $x \\geqslant 0$ et elle renvoie un nombre positif ou nul dans le domaine des nombre réels ${\\rm I\\!R}$.\n",
    "\n",
    "Pour l'importer de la librairie on utilise la commande :\n",
    "\n",
    "~~~ python\n",
    "from math import sqrt\n",
    "~~~ \n",
    "\n",
    "à ce moment \n",
    "~~~ python \n",
    "sqrt \n",
    "~~~ \n",
    "devient une fonction définie avec laquelle on peut fabriquer une fonction \n",
    "~~~ python \n",
    "racine \n",
    "~~~\n",
    "\n",
    "### 3.1) Définition de la fonction racine\n",
    "\n",
    "On veut maintenant définir une fonction qui calcule la racine carrée"
   ]
  },
  {
   "cell_type": "code",
   "execution_count": null,
   "metadata": {
    "deletable": false,
    "nbgrader": {
     "cell_type": "code",
     "checksum": "d50af7f41bb961403e7c3edca16d1e02",
     "grade": false,
     "grade_id": "cell-53f773e466efa69f",
     "locked": false,
     "schema_version": 3,
     "solution": true,
     "task": false
    }
   },
   "outputs": [],
   "source": [
    "# Entréz votre code ci dessous pour définir une fonction comme dans les cas précédents : \n",
    "\n",
    "# YOUR CODE HERE\n",
    "raise NotImplementedError()"
   ]
  },
  {
   "cell_type": "code",
   "execution_count": null,
   "metadata": {},
   "outputs": [],
   "source": [
    "# Testez ici votre fonction"
   ]
  },
  {
   "cell_type": "code",
   "execution_count": null,
   "metadata": {
    "deletable": false,
    "editable": false,
    "nbgrader": {
     "cell_type": "code",
     "checksum": "c91fad984210ba256863c15f917c2496",
     "grade": true,
     "grade_id": "cell-6a3cb23dedae3b27",
     "locked": true,
     "points": 3,
     "schema_version": 3,
     "solution": false,
     "task": false
    }
   },
   "outputs": [],
   "source": [
    "\"\"\" Tests de validation automatique \"\"\"\n",
    "for x in [0,2,4,5,50] :\n",
    "    assert racine(x) == pow(x,0.5)\n",
    "    "
   ]
  },
  {
   "cell_type": "markdown",
   "metadata": {
    "deletable": false,
    "editable": false,
    "nbgrader": {
     "cell_type": "markdown",
     "checksum": "d7be8b3e34a2800ab0d4d26632fc5366",
     "grade": false,
     "grade_id": "cell-263d9701814ee3cd",
     "locked": true,
     "schema_version": 3,
     "solution": false,
     "task": false
    }
   },
   "source": [
    "\n",
    "### 3.2)  Utilisation de la racine carrée pour calculer la longueur de l'hypothénuse d'un triangle rectangle en utilisant le théorème de pythagore\n",
    "\n",
    "On considère un triangle $ABC$ rectangle en $A$, de telle sorte que $AB$ et $AC$ sont deux ségments orthogonaux. Soit $BC$ l'hypothénuse, le théorème de Pythagore nous dit que :\n",
    "\n",
    "$$ BC^2 = AB^2 + AC^2 $$\n",
    "\n",
    "Si on calcule la racine carrée de ces deux membres de l'équation : \n",
    "\n",
    "$$ BC = \\sqrt{AB^2 + AC^2} $$\n",
    "\n",
    "On veut connaître la longeur de $BC$ sachant celle de $AB$ et de $AC$ se sont des longeurs qui peuvent appartenir à ${\\rm I\\!R}$. "
   ]
  },
  {
   "cell_type": "code",
   "execution_count": null,
   "metadata": {
    "deletable": false,
    "nbgrader": {
     "cell_type": "code",
     "checksum": "ca3d6aeed244aaaecf5dcb047c835500",
     "grade": false,
     "grade_id": "cell-ddffba42a164dcea",
     "locked": false,
     "schema_version": 3,
     "solution": true,
     "task": false
    }
   },
   "outputs": [],
   "source": [
    "def BC (AB,AC):\n",
    "    \"\"\"\n",
    "    Calcul de la longueur de l'hypothénuse \n",
    "    en utilisant le théorème de pythagore \n",
    "    et la fonction racine définie préalablement\n",
    "    \"\"\"\n",
    "    # YOUR CODE HERE\n",
    "    raise NotImplementedError()"
   ]
  },
  {
   "cell_type": "code",
   "execution_count": null,
   "metadata": {},
   "outputs": [],
   "source": [
    "# Testez ici votre fonction"
   ]
  },
  {
   "cell_type": "code",
   "execution_count": null,
   "metadata": {
    "deletable": false,
    "editable": false,
    "nbgrader": {
     "cell_type": "code",
     "checksum": "1b5153ac1665067c52801b09d36b3dff",
     "grade": true,
     "grade_id": "cell-802e2a4a8e62bbaf",
     "locked": true,
     "points": 4,
     "schema_version": 3,
     "solution": false,
     "task": false
    }
   },
   "outputs": [],
   "source": [
    "\"\"\" Tests de validation automatique \"\"\"\n",
    "assert BC(1,1) == pow(2,0.5)\n",
    "assert BC(2,1) == pow(5,0.5)\n"
   ]
  }
 ],
 "metadata": {
  "kernelspec": {
   "display_name": "Python 3",
   "language": "python",
   "name": "python3"
  },
  "language_info": {
   "codemirror_mode": {
    "name": "ipython",
    "version": 3
   },
   "file_extension": ".py",
   "mimetype": "text/x-python",
   "name": "python",
   "nbconvert_exporter": "python",
   "pygments_lexer": "ipython3",
   "version": "3.7.1"
  }
 },
 "nbformat": 4,
 "nbformat_minor": 2
}

{
 "cells": [
  {
   "cell_type": "markdown",
   "metadata": {},
   "source": [
    "# Programmation d'un objet connecté\n",
    "\n",
    "Ce premier TP a pour objectif de vous familiariser avec l'IOT (Internet of thinks). A travers une recherche où vous allez apprendre à vous servir d'un microcontrôleur, vous allez être capables de réaliser différentes tâches en les automatisant. L'objectif est de vous permettre de prendre des mesures de tension et de courant sur votre montage.\n",
    "\n",
    "\n",
    "\n",
    "## A) Quelques concepts\n",
    "\n",
    "Les termes en gras sont à utiliser dans votre notebook pour expliquer ce que vous avez réalisé.\n",
    "\n",
    "Pour programmer un système informatique embarqué, on doit organiser la tâche à accomplir sous forme d'un **code**. C'est une serie d'instructions qui comprends notamment des **fonctions** spécifiques aux entrées et aux sorties. On écrit un **programme** dans un langage qui puisse être interprété par le système.\n",
    "\n",
    "Pour l'execution de celui-ci, il faut le **téléverser** dans le système à travers un **port** de communication. On parle aussi de remplaçage du logiciel pilote dans le microprocesseur pour décrire cette étape d'implémentation.\n",
    "\n",
    "Dans ce cours nous allons voire quelques compétences qui seront utiles pour être autonome avec ce type d'instrument.\n"
   ]
  },
  {
   "cell_type": "markdown",
   "metadata": {},
   "source": [
    "## 1) Bases de syntaxe\n",
    "\n",
    "Ce paragraphe est important car il corrige beaucoup d'erreurs dans les codes que vous avez rendu pendant les congés de la Toussaint. \n",
    "\n",
    "#### Fonctions :\n",
    "\n",
    "Une fonction est un outil de programmation qui permet de transformer des donnée en entrée (appelées arguments) par des résultats en sortie. Sa syntaxe est très formelle : \n",
    "\n",
    "~~~python\n",
    "def NOM_DE_LA_FONCTION (argument1):\n",
    "    # Ecriture d'une série de lignes de commandes qui doivent être alignées les unes par rapport aux autres\n",
    "    return résultat\n",
    "~~~\n",
    "\n",
    "Notez bien les deux points après la déclaration de l'argument, ainsi que l'indentation (l'espace au début de la ligne où se trouve la commande \n",
    "\n",
    "~~~python\n",
    "    return\n",
    "~~~\n",
    "\n",
    "qui renvoie le produit de la transformation que l'on attends de la fonction.\n",
    "\n",
    "Pour cette activité les codes à téléverser sur le microcontrôleur sont écris en `C++`. \n",
    "\n",
    "En langage `C++` la syntaxe est légèrement différente de celle de Python. Par exemple la fonction `loop` qui va chercher les informations en permanence au niveau de capteurs (entrées) pour les transformer en actions (sorties) s'écrit comme cela :\n",
    "\n",
    "~~~cpp\n",
    "void loop() {\n",
    "/* Exécution d'une série de lignes de commandes finies par un caractère \";\" */    \n",
    "}\n",
    "~~~\n",
    "\n",
    "On remarque que la manière de définir les commentaires, indispensables à la bonne compréhension d'une fonction, sont semblables dans chacun des langages. Un caractère dièse '#' pour python et les caractères ' /* ' pour le `C++`. \n",
    "\n",
    "<font color=\"red\"> Donné à l'examen de SNT commun en 2020 </font>\n",
    "\n",
    "Le `C++` permet également d'ecrire des fonctions sous la forme suivante :\n",
    "\n",
    "~~~cpp\n",
    "#define ADC_TO_VOLTS(value) ((value / 1023.0) * 4.9)\n",
    "~~~\n",
    "\n",
    "cette fonction ci s'appelle une **macro** elle applique un produit en croix pour transformer la valeur ('value') lue par le programme en une autre. Dans le cas ou cette valeur serait de 1023 (le maximum) cela correspondrait à la tension de 4.9 Volt.\n",
    "\n",
    "#### Retraits :\n",
    "\n",
    "Un autre point commun, est l'utilisation de caractères pour cerner le début et la fin d'une fonction. En `C++` on doit vérifier que les accolades que l'on a ouvertes sont bien fermées à la fin de la fonction.\n",
    "\n",
    "Pour Python, c'est la même chose sauf que ces caractères sont... invisibles. Il faut donc signaler par des indentations (un retrait à droite) que l'on entre et l'on sort d'une fonction. \n",
    "\n",
    "<font color=\"red\">Retenir : le langage Python est plus regardant sur le fait de faire un bon retour à la ligne bien soigné avec des retraits propres et tabulés.</font>\n"
   ]
  },
  {
   "cell_type": "markdown",
   "metadata": {},
   "source": [
    "### 2) L'interface homme-machine\n",
    "\n",
    "Les programmes à téléverser sont des codes écris dans un langage de haut niveau (le `C++`) qui doit être *compilé* par un EDI (un **Environnement de Développement Intégré** ). \n",
    "\n",
    "La suite d'instructions d'un logiciel de programmation est appelée à être **compilée** ce qui veut dire transformée en un langage adapté à la machine avant d'être téléversée sur la machine elle même en langage machine.\n",
    "\n",
    "Dès que le programme a été compilé de façon satisfaisante, il doit être implémenté sur le microcontrôleur. On appelle cette opération l'étape de *téléversement*. Il est indispensable que la liaison USB entre l'ordinateur ou se trouve l'EDI et la carte soit correctement reliée."
   ]
  },
  {
   "cell_type": "markdown",
   "metadata": {},
   "source": [
    "## B) Les exemples à tester\n",
    "\n",
    "Pour les exemples suivants vous n'avez qu'a recopier le code et remplacer le code existant (en général ne contenant que les déclarations des deux fonction *setup* et *loop*) par le code qui est sur ce site.\n",
    "\n",
    "Nous allons commencer par un exemple simple, on va utiliser l'un des programmes de démonstration modifié. \n",
    "\n",
    "<p><img src=\"./doigt.jpg\" alt=\"Test d'entrée\" width=350 /></p>\n",
    "\n",
    "Notre système nerveux est un émetteur de signaux.\n",
    "\n",
    "### 1)  Lecture d'un port analogique\n",
    "\n",
    "L'exemple suivant est extrait de la bibliothèque des exemples de base.\n",
    "\n",
    "\n",
    "<font color=\"blue\">\n",
    "    \n",
    "**Procédure**\n",
    "\n",
    "- sélectionner le code suivant et le recopier tel quel dans la fenêtre de l'IDE.\n",
    "\n",
    "- vérifier que le débit de communication est bien de 115200 bauds (le maximum).\n",
    "\n",
    "- lancer le téléversement à l'aide du bouton \"Play\" (à côté du bouton \"valider\" dans la barre au dessus du code \"sketch\")\n",
    "\n",
    "- le câble USB est bien connecté, une DEL verte sur la platine à côté d'un instruction \"RX\" clignoter pendant la durée du transfert.\n",
    "\n",
    "</font>\n",
    "\n",
    "#### Code C++ à copier à partir de la ligne suivante\n",
    "\n",
    "~~~ cpp\n",
    "void setup() {\n",
    "  \n",
    "  Serial.begin(115200); // 1\n",
    "}\n",
    "\n",
    "// la fonction suivante est destinée à être exécutée en permanence\n",
    "void loop() {\n",
    "  \n",
    "  int sensorValue = analogRead(A0); // 2\n",
    "  \n",
    "  Serial.println(sensorValue); // 3\n",
    "  \n",
    "  delay(1);        // Attends 1 seconde pour des raisons de stabilité\n",
    "}\n",
    "~~~\n",
    "\n",
    "Ce code peut être téléversé tel quel dans l'IDE Arduino. On ouvre ensuite le moniteur série et on vérifie que le débit de communication est le même. Des chiffres devraient apparaitre sur celui-ci. Ces chiffres sont compris entre 0 et 1023 et doivent être 'traduis' en volt grâce à une fonction. \n",
    "A l'aide d'un fil de cuivre qui est fixé sur le pin noté A0 on capte le signal environnant par effet d'antenne.\n",
    "On peut visualiser ce signal en ouvrant le traceur série de l'interface Arduino\n",
    "\n",
    "<p><img src=\"./tuto1.png\" alt=\"Ajustements\" width=350 /></p>\n",
    "\n",
    "\n",
    "Pendant la mise au point (ça ne va pas se téléverser bien du premier coup). Il vous est conseillé de vérifier le protocole de communication entre l'ordinateur et la carte.\n",
    "\n",
    "<p><img src=\"./tuto2.png\" alt=\"Visualisation\" width=350 /></p>\n"
   ]
  },
  {
   "cell_type": "markdown",
   "metadata": {},
   "source": [
    "#### Question 1)  :\n",
    "\n",
    "<font color=\"green\">Faire le tri des commentaires</font>\n",
    "    \n",
    "    \n",
    "Replace les commentaires du code `C++` dans le bon ordre en te servant des flèches haut et bas du notebook"
   ]
  },
  {
   "cell_type": "markdown",
   "metadata": {},
   "source": [
    "Commentaire portant sur l'opération à réaliser sur la valeur acquise par le port de communication spécifique :\n",
    "\n",
    "~~~cpp\n",
    "// Renvoyer la valeur qui est lue sur le port de communication série :\n",
    "~~~"
   ]
  },
  {
   "cell_type": "markdown",
   "metadata": {},
   "source": [
    "Commentaire portant sur la mise en place (setup) d'un protocole de communication :\n",
    "\n",
    "~~~cpp\n",
    "// initialise le port de communication série à 115200 bauds\n",
    "~~~"
   ]
  },
  {
   "cell_type": "markdown",
   "metadata": {},
   "source": [
    "Commentaire portant sur la déclaration de la borne de communication destinée à recevoir un signal :\n",
    "\n",
    "~~~cpp\n",
    "// Lis la valeur du port analogique qui se trouve au pin 0 :\n",
    "~~~"
   ]
  },
  {
   "cell_type": "markdown",
   "metadata": {},
   "source": [
    "On retrouve deux sortes de fonctions principales :\n",
    "\n",
    "~~~ c\n",
    "void setup() \n",
    "void loop()\n",
    "~~~\n",
    "\n",
    "La première définit la vitesse à laquelle les bits vont être envoyés quant à la deuxième elle constitue le coeur du programme puis-ce que c'est elle qui demande la lecture du signal qui se trouve sur le pin 0, grâce à la fonction `analogRead()` et qui imprime dans la console série le résultat grâce à une autre fonction `Serial.println()`.\n",
    "\n"
   ]
  },
  {
   "cell_type": "markdown",
   "metadata": {},
   "source": [
    "#### Question 2)  :\n",
    "\n",
    "\n",
    "<font color=\"green\"> Le fait de faire apparaître un signal périodique quand on touche la partie conductrice d'un cable attaché à l'entrée analogique A0, est un phénomène physique de quelle nature ?  </font>\n",
    "\n",
    "\n",
    "Comment explique-t-on qu’il y ai des pics verticaux dans la fenêtre \"moniteur série\" ? \n",
    "En observant votre moniteur de quelqu'un qui a fait l'expérience correctement dans la classe, entrez votre réponse dans la cellule suivante :  \n",
    "\n"
   ]
  },
  {
   "cell_type": "markdown",
   "metadata": {},
   "source": []
  },
  {
   "cell_type": "markdown",
   "metadata": {},
   "source": [
    "#### Question 3)  :\n",
    "\n",
    "\n",
    "<font color=\"green\"> Quand vous posez votre doigt sur le câble que se passe t'il ? </font>\n",
    "\n",
    "Qu’observe-t-on sur le chronogramme quand l’élève le pince avec les doigts (à mains nues, mouillées, ou avec du gél hydroalcolique dessus) :     "
   ]
  },
  {
   "cell_type": "markdown",
   "metadata": {},
   "source": []
  },
  {
   "cell_type": "markdown",
   "metadata": {},
   "source": [
    "\n",
    "#### Question 4)  :\n",
    "\n",
    "\n",
    "\n",
    "<font color=\"green\"> Est ce qu'à partir de ce que vous avez appris pendant la séance expérimentale, vous pouvez formuler une hypothèse sur la variation de l'intensité du signal reçu ? </font>\n",
    "\n",
    "Formulez une hypothèse qui s’appuie sur le fait que le signal reçu est transmis par votre doigt à l'entrée A0. En utilisant tout ce que vous avez vu en cours sur les signaux en physique, entrez votre réponse dans la cellule suivante : "
   ]
  },
  {
   "cell_type": "markdown",
   "metadata": {},
   "source": []
  },
  {
   "cell_type": "markdown",
   "metadata": {},
   "source": [
    "### 2) La programmation d'un gradateur de lumière\n",
    "\n",
    "Nous allons nous intéresser à la génération d'une tension variable aux bornes d'une diode.\n",
    "\n",
    "Dans le programme suivant on va voire comment utiliser une des sortie digitales qui se trouve alignées avec le bouton 'reset'. Ces sorties ne doivent **jamais** être reliées de l'une à l'autre sous peine de détruire la platine. \n",
    "\n",
    "#### Code C++ à copier à partir de la ligne suivante\n",
    "\n",
    "\n",
    "~~~cpp\n",
    "/*\n",
    "\n",
    "    Gradateur de lumière\n",
    "\n",
    "           Cet exemple montre comment estomper progressivement la lueur d'une LED sur la broche 9 en utilisant la fonction :  \n",
    "           \n",
    "           analogWrite()\n",
    "  \n",
    "  Description de la fonction.\n",
    "\n",
    "  La fonction analogWrite() utilise PWM (Impulsion modulée en amplitude), donc si vous voulez changer la broche en utilisant une autre carte, assurez-vous d'utiliser une autre broche compatible PWM. \n",
    " \n",
    "  Sur la plupart des Arduino, les broches PWM sont identifiés par un signe \"~\", \n",
    "  comme ~3, ~5, ~6, ~9, ~10 et ~11.\n",
    "  \n",
    "  Dans la carte PlugUino la tilde à disparut mais le pins D10 est PWM on pourra vérifier que les autres sont bien ajustables\n",
    "\n",
    "  Cet exemple appartient au domaine public\n",
    "  \n",
    "  http://www.arduino.cc/en/Tutorial/Fade\n",
    "*/\n",
    "\n",
    "int led = 9;           // déclaration du pin \"PWM\" qui alimente la DEL\n",
    "int brightness = 0;    // niveau de luminosité de la DEL\n",
    "int fadeAmount = 5;    // combien d'étapes de variation pour la DEL\n",
    "\n",
    "// la routine de configuration s'exécute une fois lorsque vous appuyez sur reset :\n",
    "void setup() {\n",
    "  // déclare que la broche 9 est une sortie :\n",
    "  pinMode(led, OUTPUT);\n",
    "}\n",
    "\n",
    "// la routine de la boucle se répète encore et encore, pour toujours :\n",
    "void loop() {\n",
    "  // régler la luminosité de la broche 9 :\n",
    "  analogWrite(led, brightness);\n",
    "\n",
    "  // modifier la luminosité pour la prochaine fois à travers la boucle :\n",
    "  brightness = brightness + fadeAmount;\n",
    "\n",
    "  // inverser le sens du fondu lumineux une fois que l'on est parvenu aux extrémités :\n",
    "  if (brightness <= 0 || brightness >= 255) {\n",
    "    fadeAmount = -fadeAmount;\n",
    "  }\n",
    "  // attendre 30 millisecondes pour voir l'effet de gradation\n",
    "  delay(30);\n",
    "}\n",
    "~~~\n"
   ]
  },
  {
   "cell_type": "markdown",
   "metadata": {},
   "source": [
    "Disposer une diode électroluminescente entre la sortie 9 et la masse (bande noire).\n",
    "Observer ce qui se passe quand on modifie l'argument de la fonction `delay( )`"
   ]
  },
  {
   "cell_type": "markdown",
   "metadata": {},
   "source": [
    "#### Montage dont il faut s'inspirer\n",
    "\n",
    "Le schéma suivant représente les liens entre une platine Arduino et ses points de connection en bordure, ainsi qu'une plaque de prototypage rapide où les élèments éssentiels sont :\n",
    "- La DEL à brancher dans le bon sens (partie plate à la masse)\n",
    "- La résistance de protection de 220 Ohm en série avec la DEL\n",
    "- Les câbles qui sont reliés à la masse\n",
    "- Le câble jaune qui correspond à la consigne "
   ]
  },
  {
   "cell_type": "markdown",
   "metadata": {},
   "source": [
    "<p><img src=\"./diode_simple.png\" alt=\"Premier montage\" width=550 /></p>\n",
    "Sur ce schéma on retrouve la diode commandée par la sortie 9. Si le programme est correctement téléversé elle doit s'allumer et s'éteindre lentement, on appelle cela la gradation. "
   ]
  },
  {
   "cell_type": "markdown",
   "metadata": {},
   "source": [
    "#### Composants optionnels ?\n",
    "\n",
    "Le composant électrique schématisé par un petit cylindre noir est appellé un *condensateur*. Si vous le souhaitez je peux vous prêter un condensateur de 0,1 mF pendant l'activité pour votre montage. \n",
    "**Notez le bien : ce composant ne semble pas indispensable pour avoir une belle impression visuelle, vous procurant une satisfaisante sentation de gradadion de lumière.** \n",
    "La DEL peut en effet clignoter plus vite que votre œil n'est capable d'envoyer des informations à votre cortex visuel (persistance rétinienne). Donc, apparament, vous n'avez pas besoin faire l'expérience avec condensateur."
   ]
  },
  {
   "cell_type": "markdown",
   "metadata": {},
   "source": []
  },
  {
   "cell_type": "markdown",
   "metadata": {},
   "source": [
    "## C) Conclusion\n",
    "\n",
    "Pendant cette activité vous avez pris une mesure de l'éléctricité au bout de vote doigt\n",
    "\n",
    "\n",
    "## D) Annexes :\n",
    "\n",
    " Joker : Un montage semblable en remplaçant la DEL par un résistor. Et en ajoutant un filtre Résistor-Condensateur (son rôle sera expliqué en términale). Cette fois-ci la tension varie bien (au sens physique du terme) entre 0 V et 5 V."
   ]
  },
  {
   "cell_type": "markdown",
   "metadata": {},
   "source": [
    "<p><img src=\"./points.jpeg\" alt=\"Image sur PlugUino\" /></p>"
   ]
  },
  {
   "cell_type": "markdown",
   "metadata": {},
   "source": [
    "- Le point $A$ correspond à l'entrée du signal filtré programmé comme pour le gradateur de lumière. Sa tension `SIG2` est le signal qui correspond à A1\n",
    "- Le point $B$ est le point de contact entre la résistance inconnue et la charge de référence, sa tension `SIG1` est le signal qui correspond à A2\n",
    "- Le point $C$ est le point de masse `GND` commune représenté comme un triangle hachuré.\n",
    "- Le point $D$ est l'entrée du PWM sur le filtre RC. C'est le seul cable qui sorte du brochage des sorties digitales. Ce canal alimente le générateur variable $E_v$\n",
    "- La masse est signalée par les pins qui sont en noir et qui sont reliés à ground\n",
    "\n",
    "On remarque que sur la photo le filtre à été soudé et fixé sur une platine de test, dans le montage présenté en cours il est constitué de deux composants qui ne sont pas soudés pour les rendre indépendants. Une résistance de $1\\,k\\Omega$ en série avec une capacité de $470\\,\\mu F$ convient pour obtenir une tension lissée dont la valeur maximale est fonction du filtre.\n",
    "\n"
   ]
  },
  {
   "cell_type": "markdown",
   "metadata": {},
   "source": [
    "La représentation schématique du circuit devient donc la suivante. \n",
    "<p><img src=\"./circuit_4eme3.png\" alt=\"Schéma implémenté\" /></p>"
   ]
  },
  {
   "cell_type": "markdown",
   "metadata": {},
   "source": [
    "On retrouve :\n",
    "\n",
    "- Le point $A$ qui est envoyé sur l'entrée analogique $A_1$\n",
    "- Le point $B$ qui est envoyé sur l'entrée analogique $A_2$\n",
    "- Le point $C$ qui est la masse\n",
    "- Le point $D$ qui correspond à la sortie digitale $D_{10}$"
   ]
  },
  {
   "cell_type": "code",
   "execution_count": null,
   "metadata": {},
   "outputs": [],
   "source": []
  }
 ],
 "metadata": {
  "kernelspec": {
   "display_name": "Python 3",
   "language": "python",
   "name": "python3"
  },
  "language_info": {
   "codemirror_mode": {
    "name": "ipython",
    "version": 3
   },
   "file_extension": ".py",
   "mimetype": "text/x-python",
   "name": "python",
   "nbconvert_exporter": "python",
   "pygments_lexer": "ipython3",
   "version": "3.7.1"
  }
 },
 "nbformat": 4,
 "nbformat_minor": 2
}

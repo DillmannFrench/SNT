{
 "cells": [
  {
   "cell_type": "markdown",
   "metadata": {},
   "source": [
    "# Énoncer et exploiter les lois de Snell-Descartes pour la réfraction"
   ]
  },
  {
   "cell_type": "markdown",
   "metadata": {},
   "source": [
    "## FONCTION Snell_Descartes\n",
    "### Loi de Snell Descartes: \n",
    "\\begin{eqnarray}\n",
    "n_1.\\sin(i_1) & = & n_2.\\sin(i_2) \\\\\n",
    "i_2 & = & \\sin^{\\text{-}1}\\Big(\\frac{n_1}{n_2}.\\sin(i_1)\\Big) \\\\\n",
    "\\end{eqnarray}\n",
    "On prend pour expression de l'angle $i_2$ la valeur \n",
    "\n",
    "`i2 = degrees (asin(n1*(sin(radians(i1))/n2)))`\n",
    "\n",
    " tant que l'angle $i_1$ est en dessous de l'angle critique de réflexion totale\n",
    ">- Dioptre et axe\n",
    ">- Rayon incident\n",
    ">- Rayon refracté \n",
    ">- Rayon réfléchi\n",
    ">- Affichage du graphe"
   ]
  },
  {
   "cell_type": "code",
   "execution_count": 1,
   "metadata": {},
   "outputs": [],
   "source": [
    " %matplotlib inline"
   ]
  },
  {
   "cell_type": "code",
   "execution_count": 2,
   "metadata": {},
   "outputs": [],
   "source": [
    "from __future__ import print_function\n",
    "from ipywidgets import interact, interactive, fixed, interact_manual\n",
    "import ipywidgets as widgets\n",
    "from pylab import *\n",
    "from math import *\n",
    "import matplotlib.pyplot as plt\n",
    "import numpy as py"
   ]
  },
  {
   "cell_type": "code",
   "execution_count": 3,
   "metadata": {},
   "outputs": [],
   "source": [
    "n1=0\n",
    "n2=0\n",
    "x=0\n",
    "y=0\n",
    "x1=0\n",
    "y1=0\n",
    "x2=0\n",
    "y2=0"
   ]
  },
  {
   "cell_type": "code",
   "execution_count": 4,
   "metadata": {},
   "outputs": [],
   "source": [
    "def Snell_Descartes(n1,n2,i1):\n",
    "    \"\"\"\n",
    "    La réfreaction est modélisée par les lois de Snell-Descartes\n",
    "    \n",
    "    Le rayon réfracté appartient au plan défini par \n",
    "    le rayon incident et la normale à la surface de\n",
    "    séparation\n",
    "    \n",
    "    n1 indice milieu incident (sans unité)\n",
    "    n2 indice milieu refracté (sans unité)\n",
    "    i1 angle du rayon incident (radians ou degrés)\n",
    "    \n",
    "    \n",
    "    utiliser les fonction degrees/radiants pour \n",
    "    verifier que l'on travaille avec le bon type\n",
    "    d'unités\n",
    "    \"\"\"\n",
    "   \n",
    "    axis([-10,10,-10,10])\n",
    "    grid()\n",
    "    axhline(color='c',linewidth=3)\n",
    "    t=np.arange(0,10,0.1)\n",
    "\n",
    "    if n1*(sin(radians(i1))/n2) <= 1:\n",
    "        #BD condition de reflexion partielle\n",
    "        \n",
    "        #coordonées rayon incident\n",
    "        x1=sin(i1/180*pi)*t\n",
    "        y1=cos(i1/180*pi)*t\n",
    "    \n",
    "        #coordonées rayon réfracté\n",
    "        i2 = degrees (asin(n1*(sin(radians(i1))/n2)))\n",
    "        x2=sin(abs(i2)/180*pi)*-t\n",
    "        y2=cos(abs(i2)/180*pi)*-t\n",
    "    \n",
    "        #coordonées rayon réfléchi\n",
    "        x3=sin(abs(i1)/180*pi)*-t\n",
    "        y3=cos(abs(i1)/180*pi)*t\n",
    "        plt.plot(x1,y1,'-',label=\"rayon incident\")\n",
    "        plt.plot(x3,y3,'--',label=\"rayon reflechit\")\n",
    "        plt.plot(x2,y2,'r',label=\"rayon refracté\")\n",
    "        \n",
    "\n",
    "        \n",
    "    else:\n",
    "        #il n'y a pas de refraction quand la reflexion est totale \n",
    "        x1=sin(i1/180*pi)*t\n",
    "        y1=cos(i1/180*pi)*t\n",
    "        #coordonées rayon réfléchi en relexion totale\n",
    "        x3=sin(abs(i1)/180*pi)*-t\n",
    "        y3=cos(abs(i1)/180*pi)*t\n",
    "        plt.plot(x1,y1,'-',label=\"rayon incident\")\n",
    "        plt.plot(x3,y3,'--',label=\"rayon reflechit\")\n",
    "\n",
    "    \n",
    "    #BD you need a plt.legend() \n",
    "    plt.legend(loc='lower right', shadow=True, fontsize='x-large')\n",
    "    plt.title(\"Animation Snell_Descartes\")\n",
    "    plt.show()    "
   ]
  },
  {
   "cell_type": "code",
   "execution_count": 5,
   "metadata": {},
   "outputs": [
    {
     "data": {
      "application/vnd.jupyter.widget-view+json": {
       "model_id": "861d083fcece4269b4bca04ccbbb5923",
       "version_major": 2,
       "version_minor": 0
      },
      "text/plain": [
       "interactive(children=(FloatSlider(value=1.0, description='n1', max=3.0), FloatSlider(value=1.0, description='n…"
      ]
     },
     "metadata": {},
     "output_type": "display_data"
    },
    {
     "data": {
      "text/plain": [
       "<function __main__.Snell_Descartes(n1, n2, i1)>"
      ]
     },
     "execution_count": 5,
     "metadata": {},
     "output_type": "execute_result"
    }
   ],
   "source": [
    "\n",
    "interact_manual(Snell_Descartes, i1=(0,90,1), n1=(0,3,0.1), n2=(0,3,0.1))\n"
   ]
  },
  {
   "cell_type": "code",
   "execution_count": null,
   "metadata": {},
   "outputs": [],
   "source": []
  }
 ],
 "metadata": {
  "anaconda-cloud": {},
  "kernelspec": {
   "display_name": "Python 3",
   "language": "python",
   "name": "python3"
  },
  "language_info": {
   "codemirror_mode": {
    "name": "ipython",
    "version": 3
   },
   "file_extension": ".py",
   "mimetype": "text/x-python",
   "name": "python",
   "nbconvert_exporter": "python",
   "pygments_lexer": "ipython3",
   "version": "3.7.1"
  },
  "widgets": {
   "state": {
    "ad9a2276be08485195b43a8031edb05d": {
     "views": [
      {
       "cell_index": 3
      }
     ]
    }
   },
   "version": "1.2.0"
  }
 },
 "nbformat": 4,
 "nbformat_minor": 1
}
